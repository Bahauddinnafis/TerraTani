{
 "cells": [
  {
   "cell_type": "code",
   "execution_count": 1,
   "id": "9d2ab58c-2f38-4dd3-8781-17462764a10b",
   "metadata": {
    "executionInfo": {
     "elapsed": 1291,
     "status": "ok",
     "timestamp": 1702559981879,
     "user": {
      "displayName": "Alfian Bima Prastyo",
      "userId": "13770701840816320137"
     },
     "user_tz": -420
    },
    "id": "9d2ab58c-2f38-4dd3-8781-17462764a10b"
   },
   "outputs": [],
   "source": [
    "import pandas as pd\n",
    "from sklearn.model_selection import train_test_split\n",
    "from sklearn.preprocessing import LabelEncoder"
   ]
  },
  {
   "cell_type": "markdown",
   "id": "58073e55-70db-43f1-a3c2-f24a1132d41e",
   "metadata": {
    "id": "58073e55-70db-43f1-a3c2-f24a1132d41e"
   },
   "source": [
    "## 1.Importing Data"
   ]
  },
  {
   "cell_type": "code",
   "execution_count": 2,
   "id": "211d5a43-a748-4a28-a52a-6d6d6e563150",
   "metadata": {
    "colab": {
     "base_uri": "https://localhost:8080/",
     "height": 206
    },
    "collapsed": true,
    "executionInfo": {
     "elapsed": 16,
     "status": "ok",
     "timestamp": 1702559981879,
     "user": {
      "displayName": "Alfian Bima Prastyo",
      "userId": "13770701840816320137"
     },
     "user_tz": -420
    },
    "id": "211d5a43-a748-4a28-a52a-6d6d6e563150",
    "jupyter": {
     "outputs_hidden": true
    },
    "outputId": "bb0ecdbf-15fa-4a6b-c374-c01c10c6bd72"
   },
   "outputs": [
    {
     "data": {
      "text/html": [
       "\n",
       "  <div id=\"df-e6aa1969-51ce-4d53-8187-086e7bb32663\" class=\"colab-df-container\">\n",
       "    <div>\n",
       "<style scoped>\n",
       "    .dataframe tbody tr th:only-of-type {\n",
       "        vertical-align: middle;\n",
       "    }\n",
       "\n",
       "    .dataframe tbody tr th {\n",
       "        vertical-align: top;\n",
       "    }\n",
       "\n",
       "    .dataframe thead th {\n",
       "        text-align: right;\n",
       "    }\n",
       "</style>\n",
       "<table border=\"1\" class=\"dataframe\">\n",
       "  <thead>\n",
       "    <tr style=\"text-align: right;\">\n",
       "      <th></th>\n",
       "      <th>N</th>\n",
       "      <th>P</th>\n",
       "      <th>K</th>\n",
       "      <th>temperature</th>\n",
       "      <th>humidity</th>\n",
       "      <th>ph</th>\n",
       "      <th>rainfall</th>\n",
       "      <th>label</th>\n",
       "    </tr>\n",
       "  </thead>\n",
       "  <tbody>\n",
       "    <tr>\n",
       "      <th>0</th>\n",
       "      <td>90</td>\n",
       "      <td>42</td>\n",
       "      <td>43</td>\n",
       "      <td>20.879744</td>\n",
       "      <td>82.002744</td>\n",
       "      <td>6.502985</td>\n",
       "      <td>202.935536</td>\n",
       "      <td>rice</td>\n",
       "    </tr>\n",
       "    <tr>\n",
       "      <th>1</th>\n",
       "      <td>85</td>\n",
       "      <td>58</td>\n",
       "      <td>41</td>\n",
       "      <td>21.770462</td>\n",
       "      <td>80.319644</td>\n",
       "      <td>7.038096</td>\n",
       "      <td>226.655537</td>\n",
       "      <td>rice</td>\n",
       "    </tr>\n",
       "    <tr>\n",
       "      <th>2</th>\n",
       "      <td>60</td>\n",
       "      <td>55</td>\n",
       "      <td>44</td>\n",
       "      <td>23.004459</td>\n",
       "      <td>82.320763</td>\n",
       "      <td>7.840207</td>\n",
       "      <td>263.964248</td>\n",
       "      <td>rice</td>\n",
       "    </tr>\n",
       "    <tr>\n",
       "      <th>3</th>\n",
       "      <td>74</td>\n",
       "      <td>35</td>\n",
       "      <td>40</td>\n",
       "      <td>26.491096</td>\n",
       "      <td>80.158363</td>\n",
       "      <td>6.980401</td>\n",
       "      <td>242.864034</td>\n",
       "      <td>rice</td>\n",
       "    </tr>\n",
       "    <tr>\n",
       "      <th>4</th>\n",
       "      <td>78</td>\n",
       "      <td>42</td>\n",
       "      <td>42</td>\n",
       "      <td>20.130175</td>\n",
       "      <td>81.604873</td>\n",
       "      <td>7.628473</td>\n",
       "      <td>262.717340</td>\n",
       "      <td>rice</td>\n",
       "    </tr>\n",
       "  </tbody>\n",
       "</table>\n",
       "</div>\n",
       "    <div class=\"colab-df-buttons\">\n",
       "\n",
       "  <div class=\"colab-df-container\">\n",
       "    <button class=\"colab-df-convert\" onclick=\"convertToInteractive('df-e6aa1969-51ce-4d53-8187-086e7bb32663')\"\n",
       "            title=\"Convert this dataframe to an interactive table.\"\n",
       "            style=\"display:none;\">\n",
       "\n",
       "  <svg xmlns=\"http://www.w3.org/2000/svg\" height=\"24px\" viewBox=\"0 -960 960 960\">\n",
       "    <path d=\"M120-120v-720h720v720H120Zm60-500h600v-160H180v160Zm220 220h160v-160H400v160Zm0 220h160v-160H400v160ZM180-400h160v-160H180v160Zm440 0h160v-160H620v160ZM180-180h160v-160H180v160Zm440 0h160v-160H620v160Z\"/>\n",
       "  </svg>\n",
       "    </button>\n",
       "\n",
       "  <style>\n",
       "    .colab-df-container {\n",
       "      display:flex;\n",
       "      gap: 12px;\n",
       "    }\n",
       "\n",
       "    .colab-df-convert {\n",
       "      background-color: #E8F0FE;\n",
       "      border: none;\n",
       "      border-radius: 50%;\n",
       "      cursor: pointer;\n",
       "      display: none;\n",
       "      fill: #1967D2;\n",
       "      height: 32px;\n",
       "      padding: 0 0 0 0;\n",
       "      width: 32px;\n",
       "    }\n",
       "\n",
       "    .colab-df-convert:hover {\n",
       "      background-color: #E2EBFA;\n",
       "      box-shadow: 0px 1px 2px rgba(60, 64, 67, 0.3), 0px 1px 3px 1px rgba(60, 64, 67, 0.15);\n",
       "      fill: #174EA6;\n",
       "    }\n",
       "\n",
       "    .colab-df-buttons div {\n",
       "      margin-bottom: 4px;\n",
       "    }\n",
       "\n",
       "    [theme=dark] .colab-df-convert {\n",
       "      background-color: #3B4455;\n",
       "      fill: #D2E3FC;\n",
       "    }\n",
       "\n",
       "    [theme=dark] .colab-df-convert:hover {\n",
       "      background-color: #434B5C;\n",
       "      box-shadow: 0px 1px 3px 1px rgba(0, 0, 0, 0.15);\n",
       "      filter: drop-shadow(0px 1px 2px rgba(0, 0, 0, 0.3));\n",
       "      fill: #FFFFFF;\n",
       "    }\n",
       "  </style>\n",
       "\n",
       "    <script>\n",
       "      const buttonEl =\n",
       "        document.querySelector('#df-e6aa1969-51ce-4d53-8187-086e7bb32663 button.colab-df-convert');\n",
       "      buttonEl.style.display =\n",
       "        google.colab.kernel.accessAllowed ? 'block' : 'none';\n",
       "\n",
       "      async function convertToInteractive(key) {\n",
       "        const element = document.querySelector('#df-e6aa1969-51ce-4d53-8187-086e7bb32663');\n",
       "        const dataTable =\n",
       "          await google.colab.kernel.invokeFunction('convertToInteractive',\n",
       "                                                    [key], {});\n",
       "        if (!dataTable) return;\n",
       "\n",
       "        const docLinkHtml = 'Like what you see? Visit the ' +\n",
       "          '<a target=\"_blank\" href=https://colab.research.google.com/notebooks/data_table.ipynb>data table notebook</a>'\n",
       "          + ' to learn more about interactive tables.';\n",
       "        element.innerHTML = '';\n",
       "        dataTable['output_type'] = 'display_data';\n",
       "        await google.colab.output.renderOutput(dataTable, element);\n",
       "        const docLink = document.createElement('div');\n",
       "        docLink.innerHTML = docLinkHtml;\n",
       "        element.appendChild(docLink);\n",
       "      }\n",
       "    </script>\n",
       "  </div>\n",
       "\n",
       "\n",
       "<div id=\"df-b7d0e1df-8273-4403-9446-24c66dc1d72b\">\n",
       "  <button class=\"colab-df-quickchart\" onclick=\"quickchart('df-b7d0e1df-8273-4403-9446-24c66dc1d72b')\"\n",
       "            title=\"Suggest charts\"\n",
       "            style=\"display:none;\">\n",
       "\n",
       "<svg xmlns=\"http://www.w3.org/2000/svg\" height=\"24px\"viewBox=\"0 0 24 24\"\n",
       "     width=\"24px\">\n",
       "    <g>\n",
       "        <path d=\"M19 3H5c-1.1 0-2 .9-2 2v14c0 1.1.9 2 2 2h14c1.1 0 2-.9 2-2V5c0-1.1-.9-2-2-2zM9 17H7v-7h2v7zm4 0h-2V7h2v10zm4 0h-2v-4h2v4z\"/>\n",
       "    </g>\n",
       "</svg>\n",
       "  </button>\n",
       "\n",
       "<style>\n",
       "  .colab-df-quickchart {\n",
       "      --bg-color: #E8F0FE;\n",
       "      --fill-color: #1967D2;\n",
       "      --hover-bg-color: #E2EBFA;\n",
       "      --hover-fill-color: #174EA6;\n",
       "      --disabled-fill-color: #AAA;\n",
       "      --disabled-bg-color: #DDD;\n",
       "  }\n",
       "\n",
       "  [theme=dark] .colab-df-quickchart {\n",
       "      --bg-color: #3B4455;\n",
       "      --fill-color: #D2E3FC;\n",
       "      --hover-bg-color: #434B5C;\n",
       "      --hover-fill-color: #FFFFFF;\n",
       "      --disabled-bg-color: #3B4455;\n",
       "      --disabled-fill-color: #666;\n",
       "  }\n",
       "\n",
       "  .colab-df-quickchart {\n",
       "    background-color: var(--bg-color);\n",
       "    border: none;\n",
       "    border-radius: 50%;\n",
       "    cursor: pointer;\n",
       "    display: none;\n",
       "    fill: var(--fill-color);\n",
       "    height: 32px;\n",
       "    padding: 0;\n",
       "    width: 32px;\n",
       "  }\n",
       "\n",
       "  .colab-df-quickchart:hover {\n",
       "    background-color: var(--hover-bg-color);\n",
       "    box-shadow: 0 1px 2px rgba(60, 64, 67, 0.3), 0 1px 3px 1px rgba(60, 64, 67, 0.15);\n",
       "    fill: var(--button-hover-fill-color);\n",
       "  }\n",
       "\n",
       "  .colab-df-quickchart-complete:disabled,\n",
       "  .colab-df-quickchart-complete:disabled:hover {\n",
       "    background-color: var(--disabled-bg-color);\n",
       "    fill: var(--disabled-fill-color);\n",
       "    box-shadow: none;\n",
       "  }\n",
       "\n",
       "  .colab-df-spinner {\n",
       "    border: 2px solid var(--fill-color);\n",
       "    border-color: transparent;\n",
       "    border-bottom-color: var(--fill-color);\n",
       "    animation:\n",
       "      spin 1s steps(1) infinite;\n",
       "  }\n",
       "\n",
       "  @keyframes spin {\n",
       "    0% {\n",
       "      border-color: transparent;\n",
       "      border-bottom-color: var(--fill-color);\n",
       "      border-left-color: var(--fill-color);\n",
       "    }\n",
       "    20% {\n",
       "      border-color: transparent;\n",
       "      border-left-color: var(--fill-color);\n",
       "      border-top-color: var(--fill-color);\n",
       "    }\n",
       "    30% {\n",
       "      border-color: transparent;\n",
       "      border-left-color: var(--fill-color);\n",
       "      border-top-color: var(--fill-color);\n",
       "      border-right-color: var(--fill-color);\n",
       "    }\n",
       "    40% {\n",
       "      border-color: transparent;\n",
       "      border-right-color: var(--fill-color);\n",
       "      border-top-color: var(--fill-color);\n",
       "    }\n",
       "    60% {\n",
       "      border-color: transparent;\n",
       "      border-right-color: var(--fill-color);\n",
       "    }\n",
       "    80% {\n",
       "      border-color: transparent;\n",
       "      border-right-color: var(--fill-color);\n",
       "      border-bottom-color: var(--fill-color);\n",
       "    }\n",
       "    90% {\n",
       "      border-color: transparent;\n",
       "      border-bottom-color: var(--fill-color);\n",
       "    }\n",
       "  }\n",
       "</style>\n",
       "\n",
       "  <script>\n",
       "    async function quickchart(key) {\n",
       "      const quickchartButtonEl =\n",
       "        document.querySelector('#' + key + ' button');\n",
       "      quickchartButtonEl.disabled = true;  // To prevent multiple clicks.\n",
       "      quickchartButtonEl.classList.add('colab-df-spinner');\n",
       "      try {\n",
       "        const charts = await google.colab.kernel.invokeFunction(\n",
       "            'suggestCharts', [key], {});\n",
       "      } catch (error) {\n",
       "        console.error('Error during call to suggestCharts:', error);\n",
       "      }\n",
       "      quickchartButtonEl.classList.remove('colab-df-spinner');\n",
       "      quickchartButtonEl.classList.add('colab-df-quickchart-complete');\n",
       "    }\n",
       "    (() => {\n",
       "      let quickchartButtonEl =\n",
       "        document.querySelector('#df-b7d0e1df-8273-4403-9446-24c66dc1d72b button');\n",
       "      quickchartButtonEl.style.display =\n",
       "        google.colab.kernel.accessAllowed ? 'block' : 'none';\n",
       "    })();\n",
       "  </script>\n",
       "</div>\n",
       "    </div>\n",
       "  </div>\n"
      ],
      "text/plain": [
       "    N   P   K  temperature   humidity        ph    rainfall label\n",
       "0  90  42  43    20.879744  82.002744  6.502985  202.935536  rice\n",
       "1  85  58  41    21.770462  80.319644  7.038096  226.655537  rice\n",
       "2  60  55  44    23.004459  82.320763  7.840207  263.964248  rice\n",
       "3  74  35  40    26.491096  80.158363  6.980401  242.864034  rice\n",
       "4  78  42  42    20.130175  81.604873  7.628473  262.717340  rice"
      ]
     },
     "execution_count": 2,
     "metadata": {},
     "output_type": "execute_result"
    }
   ],
   "source": [
    "df = pd.read_csv('Crop_Recommendation.csv')\n",
    "df.head()"
   ]
  },
  {
   "cell_type": "code",
   "execution_count": 3,
   "id": "f66ab19d-b814-42d4-8707-70d373ea6203",
   "metadata": {
    "colab": {
     "base_uri": "https://localhost:8080/"
    },
    "executionInfo": {
     "elapsed": 14,
     "status": "ok",
     "timestamp": 1702559981879,
     "user": {
      "displayName": "Alfian Bima Prastyo",
      "userId": "13770701840816320137"
     },
     "user_tz": -420
    },
    "id": "f66ab19d-b814-42d4-8707-70d373ea6203",
    "outputId": "27e8ebe3-b936-4152-fffe-6e9efa9385d8"
   },
   "outputs": [
    {
     "data": {
      "text/plain": [
       "(2200, 8)"
      ]
     },
     "execution_count": 3,
     "metadata": {},
     "output_type": "execute_result"
    }
   ],
   "source": [
    "df.shape"
   ]
  },
  {
   "cell_type": "code",
   "execution_count": 4,
   "id": "2d60b997-4977-41e5-8484-2dbd54658d78",
   "metadata": {
    "colab": {
     "base_uri": "https://localhost:8080/"
    },
    "collapsed": true,
    "executionInfo": {
     "elapsed": 12,
     "status": "ok",
     "timestamp": 1702559981879,
     "user": {
      "displayName": "Alfian Bima Prastyo",
      "userId": "13770701840816320137"
     },
     "user_tz": -420
    },
    "id": "2d60b997-4977-41e5-8484-2dbd54658d78",
    "jupyter": {
     "outputs_hidden": true
    },
    "outputId": "0bacf347-464a-49b2-926d-0a8118debf4f"
   },
   "outputs": [
    {
     "data": {
      "text/plain": [
       "N              0\n",
       "P              0\n",
       "K              0\n",
       "temperature    0\n",
       "humidity       0\n",
       "ph             0\n",
       "rainfall       0\n",
       "label          0\n",
       "dtype: int64"
      ]
     },
     "execution_count": 4,
     "metadata": {},
     "output_type": "execute_result"
    }
   ],
   "source": [
    "df.isnull().sum()"
   ]
  },
  {
   "cell_type": "code",
   "execution_count": 5,
   "id": "7407259b-d41b-4086-bc9a-87da80d7f8bf",
   "metadata": {
    "colab": {
     "base_uri": "https://localhost:8080/"
    },
    "executionInfo": {
     "elapsed": 11,
     "status": "ok",
     "timestamp": 1702559981880,
     "user": {
      "displayName": "Alfian Bima Prastyo",
      "userId": "13770701840816320137"
     },
     "user_tz": -420
    },
    "id": "7407259b-d41b-4086-bc9a-87da80d7f8bf",
    "outputId": "d7f0632f-a62a-418f-b4ae-da3a4420a480"
   },
   "outputs": [
    {
     "data": {
      "text/plain": [
       "0"
      ]
     },
     "execution_count": 5,
     "metadata": {},
     "output_type": "execute_result"
    }
   ],
   "source": [
    "df.duplicated().sum()"
   ]
  },
  {
   "cell_type": "code",
   "execution_count": 6,
   "id": "26be4610-f64c-4107-9fa8-3cb9aadcb0c2",
   "metadata": {
    "colab": {
     "base_uri": "https://localhost:8080/",
     "height": 300
    },
    "collapsed": true,
    "executionInfo": {
     "elapsed": 9,
     "status": "ok",
     "timestamp": 1702559981880,
     "user": {
      "displayName": "Alfian Bima Prastyo",
      "userId": "13770701840816320137"
     },
     "user_tz": -420
    },
    "id": "26be4610-f64c-4107-9fa8-3cb9aadcb0c2",
    "jupyter": {
     "outputs_hidden": true
    },
    "outputId": "1268b1eb-dbc0-428e-e22b-f749a7a514cb"
   },
   "outputs": [
    {
     "data": {
      "text/html": [
       "\n",
       "  <div id=\"df-f5b55a51-7eaa-40a3-9e47-d7e4063365d6\" class=\"colab-df-container\">\n",
       "    <div>\n",
       "<style scoped>\n",
       "    .dataframe tbody tr th:only-of-type {\n",
       "        vertical-align: middle;\n",
       "    }\n",
       "\n",
       "    .dataframe tbody tr th {\n",
       "        vertical-align: top;\n",
       "    }\n",
       "\n",
       "    .dataframe thead th {\n",
       "        text-align: right;\n",
       "    }\n",
       "</style>\n",
       "<table border=\"1\" class=\"dataframe\">\n",
       "  <thead>\n",
       "    <tr style=\"text-align: right;\">\n",
       "      <th></th>\n",
       "      <th>N</th>\n",
       "      <th>P</th>\n",
       "      <th>K</th>\n",
       "      <th>temperature</th>\n",
       "      <th>humidity</th>\n",
       "      <th>ph</th>\n",
       "      <th>rainfall</th>\n",
       "    </tr>\n",
       "  </thead>\n",
       "  <tbody>\n",
       "    <tr>\n",
       "      <th>count</th>\n",
       "      <td>2200.000000</td>\n",
       "      <td>2200.000000</td>\n",
       "      <td>2200.000000</td>\n",
       "      <td>2200.000000</td>\n",
       "      <td>2200.000000</td>\n",
       "      <td>2200.000000</td>\n",
       "      <td>2200.000000</td>\n",
       "    </tr>\n",
       "    <tr>\n",
       "      <th>mean</th>\n",
       "      <td>50.551818</td>\n",
       "      <td>53.362727</td>\n",
       "      <td>48.149091</td>\n",
       "      <td>25.616244</td>\n",
       "      <td>71.481779</td>\n",
       "      <td>6.469480</td>\n",
       "      <td>103.463655</td>\n",
       "    </tr>\n",
       "    <tr>\n",
       "      <th>std</th>\n",
       "      <td>36.917334</td>\n",
       "      <td>32.985883</td>\n",
       "      <td>50.647931</td>\n",
       "      <td>5.063749</td>\n",
       "      <td>22.263812</td>\n",
       "      <td>0.773938</td>\n",
       "      <td>54.958389</td>\n",
       "    </tr>\n",
       "    <tr>\n",
       "      <th>min</th>\n",
       "      <td>0.000000</td>\n",
       "      <td>5.000000</td>\n",
       "      <td>5.000000</td>\n",
       "      <td>8.825675</td>\n",
       "      <td>14.258040</td>\n",
       "      <td>3.504752</td>\n",
       "      <td>20.211267</td>\n",
       "    </tr>\n",
       "    <tr>\n",
       "      <th>25%</th>\n",
       "      <td>21.000000</td>\n",
       "      <td>28.000000</td>\n",
       "      <td>20.000000</td>\n",
       "      <td>22.769375</td>\n",
       "      <td>60.261953</td>\n",
       "      <td>5.971693</td>\n",
       "      <td>64.551686</td>\n",
       "    </tr>\n",
       "    <tr>\n",
       "      <th>50%</th>\n",
       "      <td>37.000000</td>\n",
       "      <td>51.000000</td>\n",
       "      <td>32.000000</td>\n",
       "      <td>25.598693</td>\n",
       "      <td>80.473146</td>\n",
       "      <td>6.425045</td>\n",
       "      <td>94.867624</td>\n",
       "    </tr>\n",
       "    <tr>\n",
       "      <th>75%</th>\n",
       "      <td>84.250000</td>\n",
       "      <td>68.000000</td>\n",
       "      <td>49.000000</td>\n",
       "      <td>28.561654</td>\n",
       "      <td>89.948771</td>\n",
       "      <td>6.923643</td>\n",
       "      <td>124.267508</td>\n",
       "    </tr>\n",
       "    <tr>\n",
       "      <th>max</th>\n",
       "      <td>140.000000</td>\n",
       "      <td>145.000000</td>\n",
       "      <td>205.000000</td>\n",
       "      <td>43.675493</td>\n",
       "      <td>99.981876</td>\n",
       "      <td>9.935091</td>\n",
       "      <td>298.560117</td>\n",
       "    </tr>\n",
       "  </tbody>\n",
       "</table>\n",
       "</div>\n",
       "    <div class=\"colab-df-buttons\">\n",
       "\n",
       "  <div class=\"colab-df-container\">\n",
       "    <button class=\"colab-df-convert\" onclick=\"convertToInteractive('df-f5b55a51-7eaa-40a3-9e47-d7e4063365d6')\"\n",
       "            title=\"Convert this dataframe to an interactive table.\"\n",
       "            style=\"display:none;\">\n",
       "\n",
       "  <svg xmlns=\"http://www.w3.org/2000/svg\" height=\"24px\" viewBox=\"0 -960 960 960\">\n",
       "    <path d=\"M120-120v-720h720v720H120Zm60-500h600v-160H180v160Zm220 220h160v-160H400v160Zm0 220h160v-160H400v160ZM180-400h160v-160H180v160Zm440 0h160v-160H620v160ZM180-180h160v-160H180v160Zm440 0h160v-160H620v160Z\"/>\n",
       "  </svg>\n",
       "    </button>\n",
       "\n",
       "  <style>\n",
       "    .colab-df-container {\n",
       "      display:flex;\n",
       "      gap: 12px;\n",
       "    }\n",
       "\n",
       "    .colab-df-convert {\n",
       "      background-color: #E8F0FE;\n",
       "      border: none;\n",
       "      border-radius: 50%;\n",
       "      cursor: pointer;\n",
       "      display: none;\n",
       "      fill: #1967D2;\n",
       "      height: 32px;\n",
       "      padding: 0 0 0 0;\n",
       "      width: 32px;\n",
       "    }\n",
       "\n",
       "    .colab-df-convert:hover {\n",
       "      background-color: #E2EBFA;\n",
       "      box-shadow: 0px 1px 2px rgba(60, 64, 67, 0.3), 0px 1px 3px 1px rgba(60, 64, 67, 0.15);\n",
       "      fill: #174EA6;\n",
       "    }\n",
       "\n",
       "    .colab-df-buttons div {\n",
       "      margin-bottom: 4px;\n",
       "    }\n",
       "\n",
       "    [theme=dark] .colab-df-convert {\n",
       "      background-color: #3B4455;\n",
       "      fill: #D2E3FC;\n",
       "    }\n",
       "\n",
       "    [theme=dark] .colab-df-convert:hover {\n",
       "      background-color: #434B5C;\n",
       "      box-shadow: 0px 1px 3px 1px rgba(0, 0, 0, 0.15);\n",
       "      filter: drop-shadow(0px 1px 2px rgba(0, 0, 0, 0.3));\n",
       "      fill: #FFFFFF;\n",
       "    }\n",
       "  </style>\n",
       "\n",
       "    <script>\n",
       "      const buttonEl =\n",
       "        document.querySelector('#df-f5b55a51-7eaa-40a3-9e47-d7e4063365d6 button.colab-df-convert');\n",
       "      buttonEl.style.display =\n",
       "        google.colab.kernel.accessAllowed ? 'block' : 'none';\n",
       "\n",
       "      async function convertToInteractive(key) {\n",
       "        const element = document.querySelector('#df-f5b55a51-7eaa-40a3-9e47-d7e4063365d6');\n",
       "        const dataTable =\n",
       "          await google.colab.kernel.invokeFunction('convertToInteractive',\n",
       "                                                    [key], {});\n",
       "        if (!dataTable) return;\n",
       "\n",
       "        const docLinkHtml = 'Like what you see? Visit the ' +\n",
       "          '<a target=\"_blank\" href=https://colab.research.google.com/notebooks/data_table.ipynb>data table notebook</a>'\n",
       "          + ' to learn more about interactive tables.';\n",
       "        element.innerHTML = '';\n",
       "        dataTable['output_type'] = 'display_data';\n",
       "        await google.colab.output.renderOutput(dataTable, element);\n",
       "        const docLink = document.createElement('div');\n",
       "        docLink.innerHTML = docLinkHtml;\n",
       "        element.appendChild(docLink);\n",
       "      }\n",
       "    </script>\n",
       "  </div>\n",
       "\n",
       "\n",
       "<div id=\"df-d80de110-7d5a-4707-9b5a-720cc9e90555\">\n",
       "  <button class=\"colab-df-quickchart\" onclick=\"quickchart('df-d80de110-7d5a-4707-9b5a-720cc9e90555')\"\n",
       "            title=\"Suggest charts\"\n",
       "            style=\"display:none;\">\n",
       "\n",
       "<svg xmlns=\"http://www.w3.org/2000/svg\" height=\"24px\"viewBox=\"0 0 24 24\"\n",
       "     width=\"24px\">\n",
       "    <g>\n",
       "        <path d=\"M19 3H5c-1.1 0-2 .9-2 2v14c0 1.1.9 2 2 2h14c1.1 0 2-.9 2-2V5c0-1.1-.9-2-2-2zM9 17H7v-7h2v7zm4 0h-2V7h2v10zm4 0h-2v-4h2v4z\"/>\n",
       "    </g>\n",
       "</svg>\n",
       "  </button>\n",
       "\n",
       "<style>\n",
       "  .colab-df-quickchart {\n",
       "      --bg-color: #E8F0FE;\n",
       "      --fill-color: #1967D2;\n",
       "      --hover-bg-color: #E2EBFA;\n",
       "      --hover-fill-color: #174EA6;\n",
       "      --disabled-fill-color: #AAA;\n",
       "      --disabled-bg-color: #DDD;\n",
       "  }\n",
       "\n",
       "  [theme=dark] .colab-df-quickchart {\n",
       "      --bg-color: #3B4455;\n",
       "      --fill-color: #D2E3FC;\n",
       "      --hover-bg-color: #434B5C;\n",
       "      --hover-fill-color: #FFFFFF;\n",
       "      --disabled-bg-color: #3B4455;\n",
       "      --disabled-fill-color: #666;\n",
       "  }\n",
       "\n",
       "  .colab-df-quickchart {\n",
       "    background-color: var(--bg-color);\n",
       "    border: none;\n",
       "    border-radius: 50%;\n",
       "    cursor: pointer;\n",
       "    display: none;\n",
       "    fill: var(--fill-color);\n",
       "    height: 32px;\n",
       "    padding: 0;\n",
       "    width: 32px;\n",
       "  }\n",
       "\n",
       "  .colab-df-quickchart:hover {\n",
       "    background-color: var(--hover-bg-color);\n",
       "    box-shadow: 0 1px 2px rgba(60, 64, 67, 0.3), 0 1px 3px 1px rgba(60, 64, 67, 0.15);\n",
       "    fill: var(--button-hover-fill-color);\n",
       "  }\n",
       "\n",
       "  .colab-df-quickchart-complete:disabled,\n",
       "  .colab-df-quickchart-complete:disabled:hover {\n",
       "    background-color: var(--disabled-bg-color);\n",
       "    fill: var(--disabled-fill-color);\n",
       "    box-shadow: none;\n",
       "  }\n",
       "\n",
       "  .colab-df-spinner {\n",
       "    border: 2px solid var(--fill-color);\n",
       "    border-color: transparent;\n",
       "    border-bottom-color: var(--fill-color);\n",
       "    animation:\n",
       "      spin 1s steps(1) infinite;\n",
       "  }\n",
       "\n",
       "  @keyframes spin {\n",
       "    0% {\n",
       "      border-color: transparent;\n",
       "      border-bottom-color: var(--fill-color);\n",
       "      border-left-color: var(--fill-color);\n",
       "    }\n",
       "    20% {\n",
       "      border-color: transparent;\n",
       "      border-left-color: var(--fill-color);\n",
       "      border-top-color: var(--fill-color);\n",
       "    }\n",
       "    30% {\n",
       "      border-color: transparent;\n",
       "      border-left-color: var(--fill-color);\n",
       "      border-top-color: var(--fill-color);\n",
       "      border-right-color: var(--fill-color);\n",
       "    }\n",
       "    40% {\n",
       "      border-color: transparent;\n",
       "      border-right-color: var(--fill-color);\n",
       "      border-top-color: var(--fill-color);\n",
       "    }\n",
       "    60% {\n",
       "      border-color: transparent;\n",
       "      border-right-color: var(--fill-color);\n",
       "    }\n",
       "    80% {\n",
       "      border-color: transparent;\n",
       "      border-right-color: var(--fill-color);\n",
       "      border-bottom-color: var(--fill-color);\n",
       "    }\n",
       "    90% {\n",
       "      border-color: transparent;\n",
       "      border-bottom-color: var(--fill-color);\n",
       "    }\n",
       "  }\n",
       "</style>\n",
       "\n",
       "  <script>\n",
       "    async function quickchart(key) {\n",
       "      const quickchartButtonEl =\n",
       "        document.querySelector('#' + key + ' button');\n",
       "      quickchartButtonEl.disabled = true;  // To prevent multiple clicks.\n",
       "      quickchartButtonEl.classList.add('colab-df-spinner');\n",
       "      try {\n",
       "        const charts = await google.colab.kernel.invokeFunction(\n",
       "            'suggestCharts', [key], {});\n",
       "      } catch (error) {\n",
       "        console.error('Error during call to suggestCharts:', error);\n",
       "      }\n",
       "      quickchartButtonEl.classList.remove('colab-df-spinner');\n",
       "      quickchartButtonEl.classList.add('colab-df-quickchart-complete');\n",
       "    }\n",
       "    (() => {\n",
       "      let quickchartButtonEl =\n",
       "        document.querySelector('#df-d80de110-7d5a-4707-9b5a-720cc9e90555 button');\n",
       "      quickchartButtonEl.style.display =\n",
       "        google.colab.kernel.accessAllowed ? 'block' : 'none';\n",
       "    })();\n",
       "  </script>\n",
       "</div>\n",
       "    </div>\n",
       "  </div>\n"
      ],
      "text/plain": [
       "                 N            P            K  temperature     humidity  \\\n",
       "count  2200.000000  2200.000000  2200.000000  2200.000000  2200.000000   \n",
       "mean     50.551818    53.362727    48.149091    25.616244    71.481779   \n",
       "std      36.917334    32.985883    50.647931     5.063749    22.263812   \n",
       "min       0.000000     5.000000     5.000000     8.825675    14.258040   \n",
       "25%      21.000000    28.000000    20.000000    22.769375    60.261953   \n",
       "50%      37.000000    51.000000    32.000000    25.598693    80.473146   \n",
       "75%      84.250000    68.000000    49.000000    28.561654    89.948771   \n",
       "max     140.000000   145.000000   205.000000    43.675493    99.981876   \n",
       "\n",
       "                ph     rainfall  \n",
       "count  2200.000000  2200.000000  \n",
       "mean      6.469480   103.463655  \n",
       "std       0.773938    54.958389  \n",
       "min       3.504752    20.211267  \n",
       "25%       5.971693    64.551686  \n",
       "50%       6.425045    94.867624  \n",
       "75%       6.923643   124.267508  \n",
       "max       9.935091   298.560117  "
      ]
     },
     "execution_count": 6,
     "metadata": {},
     "output_type": "execute_result"
    }
   ],
   "source": [
    "df.describe()"
   ]
  },
  {
   "cell_type": "markdown",
   "id": "3124c690-a864-42ea-be5d-aa79406ae56d",
   "metadata": {},
   "source": [
    "## 2. Preprocessing Data"
   ]
  },
  {
   "cell_type": "markdown",
   "id": "150e1d93-217d-4417-a319-60c58c2a16ae",
   "metadata": {
    "id": "150e1d93-217d-4417-a319-60c58c2a16ae"
   },
   "source": [
    "### 2.1 Encoding Data"
   ]
  },
  {
   "cell_type": "code",
   "execution_count": 7,
   "id": "dfd09b08-d3ec-4cf5-a70f-e42ba336f492",
   "metadata": {
    "executionInfo": {
     "elapsed": 8,
     "status": "ok",
     "timestamp": 1702559981880,
     "user": {
      "displayName": "Alfian Bima Prastyo",
      "userId": "13770701840816320137"
     },
     "user_tz": -420
    },
    "id": "dfd09b08-d3ec-4cf5-a70f-e42ba336f492"
   },
   "outputs": [],
   "source": [
    "label_encoder = LabelEncoder()\n",
    "df['label'] = label_encoder.fit_transform(df['label'])"
   ]
  },
  {
   "cell_type": "code",
   "execution_count": 8,
   "id": "7a66a6f5-fda1-4653-9844-854b2151c608",
   "metadata": {
    "colab": {
     "base_uri": "https://localhost:8080/"
    },
    "collapsed": true,
    "executionInfo": {
     "elapsed": 8,
     "status": "ok",
     "timestamp": 1702559981880,
     "user": {
      "displayName": "Alfian Bima Prastyo",
      "userId": "13770701840816320137"
     },
     "user_tz": -420
    },
    "id": "7a66a6f5-fda1-4653-9844-854b2151c608",
    "jupyter": {
     "outputs_hidden": true
    },
    "outputId": "f4607cbd-a4da-4c4c-88c0-83a8649959dc"
   },
   "outputs": [
    {
     "data": {
      "text/plain": [
       "20    100\n",
       "11    100\n",
       "8     100\n",
       "6     100\n",
       "4     100\n",
       "17    100\n",
       "16    100\n",
       "0     100\n",
       "15    100\n",
       "21    100\n",
       "7     100\n",
       "12    100\n",
       "1     100\n",
       "19    100\n",
       "10    100\n",
       "2     100\n",
       "14    100\n",
       "13    100\n",
       "18    100\n",
       "9     100\n",
       "3     100\n",
       "5     100\n",
       "Name: label, dtype: int64"
      ]
     },
     "execution_count": 8,
     "metadata": {},
     "output_type": "execute_result"
    }
   ],
   "source": [
    "df['label'].value_counts()"
   ]
  },
  {
   "cell_type": "code",
   "execution_count": 9,
   "id": "c0740841-e33e-43f4-bbed-2b4c6d443c8f",
   "metadata": {
    "colab": {
     "base_uri": "https://localhost:8080/",
     "height": 506
    },
    "collapsed": true,
    "executionInfo": {
     "elapsed": 1085,
     "status": "ok",
     "timestamp": 1702559982958,
     "user": {
      "displayName": "Alfian Bima Prastyo",
      "userId": "13770701840816320137"
     },
     "user_tz": -420
    },
    "id": "c0740841-e33e-43f4-bbed-2b4c6d443c8f",
    "jupyter": {
     "outputs_hidden": true
    },
    "outputId": "4049d3c9-2aae-4b4d-8e1a-2bd0452702bb"
   },
   "outputs": [
    {
     "data": {
      "image/png": "[encoded data removed]",
      "text/plain": [
       "<Figure size 500x500 with 1 Axes>"
      ]
     },
     "metadata": {},
     "output_type": "display_data"
    }
   ],
   "source": [
    "import seaborn as sns\n",
    "import matplotlib.pyplot as plt\n",
    "sns.displot(df['N'])\n",
    "plt.show()"
   ]
  },
  {
   "cell_type": "markdown",
   "id": "d2cc0c91-74f1-42e2-b4be-a2f9227d70ab",
   "metadata": {
    "id": "d2cc0c91-74f1-42e2-b4be-a2f9227d70ab"
   },
   "source": [
    "### 2.2 Spliting Data"
   ]
  },
  {
   "cell_type": "code",
   "execution_count": 10,
   "id": "e3e2ebcb-1d4c-4c34-b8c4-889fa15bc4c7",
   "metadata": {
    "executionInfo": {
     "elapsed": 10,
     "status": "ok",
     "timestamp": 1702559982958,
     "user": {
      "displayName": "Alfian Bima Prastyo",
      "userId": "13770701840816320137"
     },
     "user_tz": -420
    },
    "id": "e3e2ebcb-1d4c-4c34-b8c4-889fa15bc4c7"
   },
   "outputs": [],
   "source": [
    "X = df.drop('label', axis=1)\n",
    "y = df['label']"
   ]
  },
  {
   "cell_type": "code",
   "execution_count": 11,
   "id": "c6c4cdf9-f9f9-4c70-85aa-f216675c63d8",
   "metadata": {
    "colab": {
     "base_uri": "https://localhost:8080/",
     "height": 206
    },
    "collapsed": true,
    "executionInfo": {
     "elapsed": 11,
     "status": "ok",
     "timestamp": 1702559982959,
     "user": {
      "displayName": "Alfian Bima Prastyo",
      "userId": "13770701840816320137"
     },
     "user_tz": -420
    },
    "id": "c6c4cdf9-f9f9-4c70-85aa-f216675c63d8",
    "jupyter": {
     "outputs_hidden": true
    },
    "outputId": "8987ce17-c87e-4c49-b308-c5f8072f3c07"
   },
   "outputs": [
    {
     "data": {
      "text/html": [
       "\n",
       "  <div id=\"df-7819eb5f-3010-42bc-8740-9f8d87450b4a\" class=\"colab-df-container\">\n",
       "    <div>\n",
       "<style scoped>\n",
       "    .dataframe tbody tr th:only-of-type {\n",
       "        vertical-align: middle;\n",
       "    }\n",
       "\n",
       "    .dataframe tbody tr th {\n",
       "        vertical-align: top;\n",
       "    }\n",
       "\n",
       "    .dataframe thead th {\n",
       "        text-align: right;\n",
       "    }\n",
       "</style>\n",
       "<table border=\"1\" class=\"dataframe\">\n",
       "  <thead>\n",
       "    <tr style=\"text-align: right;\">\n",
       "      <th></th>\n",
       "      <th>N</th>\n",
       "      <th>P</th>\n",
       "      <th>K</th>\n",
       "      <th>temperature</th>\n",
       "      <th>humidity</th>\n",
       "      <th>ph</th>\n",
       "      <th>rainfall</th>\n",
       "    </tr>\n",
       "  </thead>\n",
       "  <tbody>\n",
       "    <tr>\n",
       "      <th>0</th>\n",
       "      <td>90</td>\n",
       "      <td>42</td>\n",
       "      <td>43</td>\n",
       "      <td>20.879744</td>\n",
       "      <td>82.002744</td>\n",
       "      <td>6.502985</td>\n",
       "      <td>202.935536</td>\n",
       "    </tr>\n",
       "    <tr>\n",
       "      <th>1</th>\n",
       "      <td>85</td>\n",
       "      <td>58</td>\n",
       "      <td>41</td>\n",
       "      <td>21.770462</td>\n",
       "      <td>80.319644</td>\n",
       "      <td>7.038096</td>\n",
       "      <td>226.655537</td>\n",
       "    </tr>\n",
       "    <tr>\n",
       "      <th>2</th>\n",
       "      <td>60</td>\n",
       "      <td>55</td>\n",
       "      <td>44</td>\n",
       "      <td>23.004459</td>\n",
       "      <td>82.320763</td>\n",
       "      <td>7.840207</td>\n",
       "      <td>263.964248</td>\n",
       "    </tr>\n",
       "    <tr>\n",
       "      <th>3</th>\n",
       "      <td>74</td>\n",
       "      <td>35</td>\n",
       "      <td>40</td>\n",
       "      <td>26.491096</td>\n",
       "      <td>80.158363</td>\n",
       "      <td>6.980401</td>\n",
       "      <td>242.864034</td>\n",
       "    </tr>\n",
       "    <tr>\n",
       "      <th>4</th>\n",
       "      <td>78</td>\n",
       "      <td>42</td>\n",
       "      <td>42</td>\n",
       "      <td>20.130175</td>\n",
       "      <td>81.604873</td>\n",
       "      <td>7.628473</td>\n",
       "      <td>262.717340</td>\n",
       "    </tr>\n",
       "  </tbody>\n",
       "</table>\n",
       "</div>\n",
       "    <div class=\"colab-df-buttons\">\n",
       "\n",
       "  <div class=\"colab-df-container\">\n",
       "    <button class=\"colab-df-convert\" onclick=\"convertToInteractive('df-7819eb5f-3010-42bc-8740-9f8d87450b4a')\"\n",
       "            title=\"Convert this dataframe to an interactive table.\"\n",
       "            style=\"display:none;\">\n",
       "\n",
       "  <svg xmlns=\"http://www.w3.org/2000/svg\" height=\"24px\" viewBox=\"0 -960 960 960\">\n",
       "    <path d=\"M120-120v-720h720v720H120Zm60-500h600v-160H180v160Zm220 220h160v-160H400v160Zm0 220h160v-160H400v160ZM180-400h160v-160H180v160Zm440 0h160v-160H620v160ZM180-180h160v-160H180v160Zm440 0h160v-160H620v160Z\"/>\n",
       "  </svg>\n",
       "    </button>\n",
       "\n",
       "  <style>\n",
       "    .colab-df-container {\n",
       "      display:flex;\n",
       "      gap: 12px;\n",
       "    }\n",
       "\n",
       "    .colab-df-convert {\n",
       "      background-color: #E8F0FE;\n",
       "      border: none;\n",
       "      border-radius: 50%;\n",
       "      cursor: pointer;\n",
       "      display: none;\n",
       "      fill: #1967D2;\n",
       "      height: 32px;\n",
       "      padding: 0 0 0 0;\n",
       "      width: 32px;\n",
       "    }\n",
       "\n",
       "    .colab-df-convert:hover {\n",
       "      background-color: #E2EBFA;\n",
       "      box-shadow: 0px 1px 2px rgba(60, 64, 67, 0.3), 0px 1px 3px 1px rgba(60, 64, 67, 0.15);\n",
       "      fill: #174EA6;\n",
       "    }\n",
       "\n",
       "    .colab-df-buttons div {\n",
       "      margin-bottom: 4px;\n",
       "    }\n",
       "\n",
       "    [theme=dark] .colab-df-convert {\n",
       "      background-color: #3B4455;\n",
       "      fill: #D2E3FC;\n",
       "    }\n",
       "\n",
       "    [theme=dark] .colab-df-convert:hover {\n",
       "      background-color: #434B5C;\n",
       "      box-shadow: 0px 1px 3px 1px rgba(0, 0, 0, 0.15);\n",
       "      filter: drop-shadow(0px 1px 2px rgba(0, 0, 0, 0.3));\n",
       "      fill: #FFFFFF;\n",
       "    }\n",
       "  </style>\n",
       "\n",
       "    <script>\n",
       "      const buttonEl =\n",
       "        document.querySelector('#df-7819eb5f-3010-42bc-8740-9f8d87450b4a button.colab-df-convert');\n",
       "      buttonEl.style.display =\n",
       "        google.colab.kernel.accessAllowed ? 'block' : 'none';\n",
       "\n",
       "      async function convertToInteractive(key) {\n",
       "        const element = document.querySelector('#df-7819eb5f-3010-42bc-8740-9f8d87450b4a');\n",
       "        const dataTable =\n",
       "          await google.colab.kernel.invokeFunction('convertToInteractive',\n",
       "                                                    [key], {});\n",
       "        if (!dataTable) return;\n",
       "\n",
       "        const docLinkHtml = 'Like what you see? Visit the ' +\n",
       "          '<a target=\"_blank\" href=https://colab.research.google.com/notebooks/data_table.ipynb>data table notebook</a>'\n",
       "          + ' to learn more about interactive tables.';\n",
       "        element.innerHTML = '';\n",
       "        dataTable['output_type'] = 'display_data';\n",
       "        await google.colab.output.renderOutput(dataTable, element);\n",
       "        const docLink = document.createElement('div');\n",
       "        docLink.innerHTML = docLinkHtml;\n",
       "        element.appendChild(docLink);\n",
       "      }\n",
       "    </script>\n",
       "  </div>\n",
       "\n",
       "\n",
       "<div id=\"df-90804a15-4942-4782-b03c-5598941f1bf0\">\n",
       "  <button class=\"colab-df-quickchart\" onclick=\"quickchart('df-90804a15-4942-4782-b03c-5598941f1bf0')\"\n",
       "            title=\"Suggest charts\"\n",
       "            style=\"display:none;\">\n",
       "\n",
       "<svg xmlns=\"http://www.w3.org/2000/svg\" height=\"24px\"viewBox=\"0 0 24 24\"\n",
       "     width=\"24px\">\n",
       "    <g>\n",
       "        <path d=\"M19 3H5c-1.1 0-2 .9-2 2v14c0 1.1.9 2 2 2h14c1.1 0 2-.9 2-2V5c0-1.1-.9-2-2-2zM9 17H7v-7h2v7zm4 0h-2V7h2v10zm4 0h-2v-4h2v4z\"/>\n",
       "    </g>\n",
       "</svg>\n",
       "  </button>\n",
       "\n",
       "<style>\n",
       "  .colab-df-quickchart {\n",
       "      --bg-color: #E8F0FE;\n",
       "      --fill-color: #1967D2;\n",
       "      --hover-bg-color: #E2EBFA;\n",
       "      --hover-fill-color: #174EA6;\n",
       "      --disabled-fill-color: #AAA;\n",
       "      --disabled-bg-color: #DDD;\n",
       "  }\n",
       "\n",
       "  [theme=dark] .colab-df-quickchart {\n",
       "      --bg-color: #3B4455;\n",
       "      --fill-color: #D2E3FC;\n",
       "      --hover-bg-color: #434B5C;\n",
       "      --hover-fill-color: #FFFFFF;\n",
       "      --disabled-bg-color: #3B4455;\n",
       "      --disabled-fill-color: #666;\n",
       "  }\n",
       "\n",
       "  .colab-df-quickchart {\n",
       "    background-color: var(--bg-color);\n",
       "    border: none;\n",
       "    border-radius: 50%;\n",
       "    cursor: pointer;\n",
       "    display: none;\n",
       "    fill: var(--fill-color);\n",
       "    height: 32px;\n",
       "    padding: 0;\n",
       "    width: 32px;\n",
       "  }\n",
       "\n",
       "  .colab-df-quickchart:hover {\n",
       "    background-color: var(--hover-bg-color);\n",
       "    box-shadow: 0 1px 2px rgba(60, 64, 67, 0.3), 0 1px 3px 1px rgba(60, 64, 67, 0.15);\n",
       "    fill: var(--button-hover-fill-color);\n",
       "  }\n",
       "\n",
       "  .colab-df-quickchart-complete:disabled,\n",
       "  .colab-df-quickchart-complete:disabled:hover {\n",
       "    background-color: var(--disabled-bg-color);\n",
       "    fill: var(--disabled-fill-color);\n",
       "    box-shadow: none;\n",
       "  }\n",
       "\n",
       "  .colab-df-spinner {\n",
       "    border: 2px solid var(--fill-color);\n",
       "    border-color: transparent;\n",
       "    border-bottom-color: var(--fill-color);\n",
       "    animation:\n",
       "      spin 1s steps(1) infinite;\n",
       "  }\n",
       "\n",
       "  @keyframes spin {\n",
       "    0% {\n",
       "      border-color: transparent;\n",
       "      border-bottom-color: var(--fill-color);\n",
       "      border-left-color: var(--fill-color);\n",
       "    }\n",
       "    20% {\n",
       "      border-color: transparent;\n",
       "      border-left-color: var(--fill-color);\n",
       "      border-top-color: var(--fill-color);\n",
       "    }\n",
       "    30% {\n",
       "      border-color: transparent;\n",
       "      border-left-color: var(--fill-color);\n",
       "      border-top-color: var(--fill-color);\n",
       "      border-right-color: var(--fill-color);\n",
       "    }\n",
       "    40% {\n",
       "      border-color: transparent;\n",
       "      border-right-color: var(--fill-color);\n",
       "      border-top-color: var(--fill-color);\n",
       "    }\n",
       "    60% {\n",
       "      border-color: transparent;\n",
       "      border-right-color: var(--fill-color);\n",
       "    }\n",
       "    80% {\n",
       "      border-color: transparent;\n",
       "      border-right-color: var(--fill-color);\n",
       "      border-bottom-color: var(--fill-color);\n",
       "    }\n",
       "    90% {\n",
       "      border-color: transparent;\n",
       "      border-bottom-color: var(--fill-color);\n",
       "    }\n",
       "  }\n",
       "</style>\n",
       "\n",
       "  <script>\n",
       "    async function quickchart(key) {\n",
       "      const quickchartButtonEl =\n",
       "        document.querySelector('#' + key + ' button');\n",
       "      quickchartButtonEl.disabled = true;  // To prevent multiple clicks.\n",
       "      quickchartButtonEl.classList.add('colab-df-spinner');\n",
       "      try {\n",
       "        const charts = await google.colab.kernel.invokeFunction(\n",
       "            'suggestCharts', [key], {});\n",
       "      } catch (error) {\n",
       "        console.error('Error during call to suggestCharts:', error);\n",
       "      }\n",
       "      quickchartButtonEl.classList.remove('colab-df-spinner');\n",
       "      quickchartButtonEl.classList.add('colab-df-quickchart-complete');\n",
       "    }\n",
       "    (() => {\n",
       "      let quickchartButtonEl =\n",
       "        document.querySelector('#df-90804a15-4942-4782-b03c-5598941f1bf0 button');\n",
       "      quickchartButtonEl.style.display =\n",
       "        google.colab.kernel.accessAllowed ? 'block' : 'none';\n",
       "    })();\n",
       "  </script>\n",
       "</div>\n",
       "    </div>\n",
       "  </div>\n"
      ],
      "text/plain": [
       "    N   P   K  temperature   humidity        ph    rainfall\n",
       "0  90  42  43    20.879744  82.002744  6.502985  202.935536\n",
       "1  85  58  41    21.770462  80.319644  7.038096  226.655537\n",
       "2  60  55  44    23.004459  82.320763  7.840207  263.964248\n",
       "3  74  35  40    26.491096  80.158363  6.980401  242.864034\n",
       "4  78  42  42    20.130175  81.604873  7.628473  262.717340"
      ]
     },
     "execution_count": 11,
     "metadata": {},
     "output_type": "execute_result"
    }
   ],
   "source": [
    "X.head()"
   ]
  },
  {
   "cell_type": "code",
   "execution_count": 12,
   "id": "7600706d-19c3-44f9-b5db-bcdd211ee136",
   "metadata": {
    "executionInfo": {
     "elapsed": 10,
     "status": "ok",
     "timestamp": 1702559982959,
     "user": {
      "displayName": "Alfian Bima Prastyo",
      "userId": "13770701840816320137"
     },
     "user_tz": -420
    },
    "id": "7600706d-19c3-44f9-b5db-bcdd211ee136"
   },
   "outputs": [],
   "source": [
    "X_train, X_test, y_train, y_test = train_test_split(X, y, test_size=0.2, random_state=42)"
   ]
  },
  {
   "cell_type": "markdown",
   "id": "5e754089-293d-475c-ac96-95520508cd7f",
   "metadata": {
    "id": "5e754089-293d-475c-ac96-95520508cd7f"
   },
   "source": [
    "### 2.3 Scale Data"
   ]
  },
  {
   "cell_type": "code",
   "execution_count": 13,
   "id": "0d7bc6f4-bf1c-4e2a-ab55-1f1a5c73795d",
   "metadata": {
    "executionInfo": {
     "elapsed": 10,
     "status": "ok",
     "timestamp": 1702559982959,
     "user": {
      "displayName": "Alfian Bima Prastyo",
      "userId": "13770701840816320137"
     },
     "user_tz": -420
    },
    "id": "0d7bc6f4-bf1c-4e2a-ab55-1f1a5c73795d"
   },
   "outputs": [],
   "source": [
    "from sklearn.preprocessing import MinMaxScaler\n",
    "ms = MinMaxScaler()\n",
    "\n",
    "X_train = ms.fit_transform(X_train)\n",
    "X_test = ms.transform(X_test)"
   ]
  },
  {
   "cell_type": "code",
   "execution_count": 14,
   "id": "f13eb753-76cc-4ebc-b355-6ce0873952a7",
   "metadata": {
    "colab": {
     "base_uri": "https://localhost:8080/"
    },
    "collapsed": true,
    "executionInfo": {
     "elapsed": 9,
     "status": "ok",
     "timestamp": 1702559982959,
     "user": {
      "displayName": "Alfian Bima Prastyo",
      "userId": "13770701840816320137"
     },
     "user_tz": -420
    },
    "id": "f13eb753-76cc-4ebc-b355-6ce0873952a7",
    "jupyter": {
     "outputs_hidden": true
    },
    "outputId": "2a852a02-2f14-41f4-dfab-f3e71a6e3b8a"
   },
   "outputs": [
    {
     "data": {
      "text/plain": [
       "array([[0.12142857, 0.07857143, 0.045     , ..., 0.9089898 , 0.48532225,\n",
       "        0.29685161],\n",
       "       [0.26428571, 0.52857143, 0.07      , ..., 0.64257946, 0.56594073,\n",
       "        0.17630752],\n",
       "       [0.05      , 0.48571429, 0.1       , ..., 0.57005802, 0.58835229,\n",
       "        0.08931844],\n",
       "       ...,\n",
       "       [0.07857143, 0.22142857, 0.13      , ..., 0.43760347, 0.46198144,\n",
       "        0.28719815],\n",
       "       [0.07857143, 0.85      , 0.995     , ..., 0.76763665, 0.44420505,\n",
       "        0.18346657],\n",
       "       [0.22857143, 0.52142857, 0.085     , ..., 0.56099735, 0.54465022,\n",
       "        0.11879596]])"
      ]
     },
     "execution_count": 14,
     "metadata": {},
     "output_type": "execute_result"
    }
   ],
   "source": [
    "X_train"
   ]
  },
  {
   "cell_type": "code",
   "execution_count": 15,
   "id": "e71feec2-c853-44f8-8326-7a3eb0987ef2",
   "metadata": {
    "colab": {
     "base_uri": "https://localhost:8080/"
    },
    "collapsed": true,
    "executionInfo": {
     "elapsed": 8,
     "status": "ok",
     "timestamp": 1702559982959,
     "user": {
      "displayName": "Alfian Bima Prastyo",
      "userId": "13770701840816320137"
     },
     "user_tz": -420
    },
    "id": "e71feec2-c853-44f8-8326-7a3eb0987ef2",
    "jupyter": {
     "outputs_hidden": true
    },
    "outputId": "21745970-8a4e-4c7b-c6a5-6455a74690ad"
   },
   "outputs": [
    {
     "data": {
      "text/plain": [
       "array([[0.72142857, 0.08571429, 0.21      , ..., 0.93872187, 0.41682113,\n",
       "        0.021381  ],\n",
       "       [0.7       , 0.02142857, 0.23      , ..., 0.84296447, 0.42837304,\n",
       "        0.10449492],\n",
       "       [0.42142857, 0.40714286, 0.22      , ..., 0.92264534, 0.5344578 ,\n",
       "        0.33938901],\n",
       "       ...,\n",
       "       [0.86428571, 0.3       , 0.055     , ..., 0.75864563, 0.6560289 ,\n",
       "        0.18741185],\n",
       "       [0.82857143, 0.33571429, 0.07      , ..., 0.71286229, 0.40585322,\n",
       "        0.16793744],\n",
       "       [0.03571429, 0.45      , 0.075     , ..., 0.21974075, 0.40696371,\n",
       "        0.48530014]])"
      ]
     },
     "execution_count": 15,
     "metadata": {},
     "output_type": "execute_result"
    }
   ],
   "source": [
    "X_test"
   ]
  },
  {
   "cell_type": "markdown",
   "id": "e0699784-d853-420c-8631-740e1d75f8b3",
   "metadata": {
    "id": "e0699784-d853-420c-8631-740e1d75f8b3"
   },
   "source": [
    "## 3. Model"
   ]
  },
  {
   "cell_type": "markdown",
   "id": "07b0c580-cfeb-48e1-bf42-85cf8e4477af",
   "metadata": {},
   "source": [
    "### 3.1 Building Model"
   ]
  },
  {
   "cell_type": "code",
   "execution_count": 16,
   "id": "b874e64a-e46f-4fae-803d-88e5c2c0f856",
   "metadata": {
    "executionInfo": {
     "elapsed": 3798,
     "status": "ok",
     "timestamp": 1702559986750,
     "user": {
      "displayName": "Alfian Bima Prastyo",
      "userId": "13770701840816320137"
     },
     "user_tz": -420
    },
    "id": "b874e64a-e46f-4fae-803d-88e5c2c0f856"
   },
   "outputs": [],
   "source": [
    "import tensorflow as tf\n",
    "from tensorflow.keras.models import Sequential\n",
    "from tensorflow.keras.layers import Dense\n",
    "\n",
    "model = Sequential([\n",
    "    Dense(64, input_shape=(X_train.shape[1],), activation='relu'),\n",
    "    Dense(32, activation='relu'),\n",
    "    Dense(len(label_encoder.classes_), activation='softmax')  \n",
    "])"
   ]
  },
  {
   "cell_type": "code",
   "execution_count": 17,
   "id": "ac98da18-9e47-4740-924a-afd0f0ad4f5b",
   "metadata": {
    "executionInfo": {
     "elapsed": 7,
     "status": "ok",
     "timestamp": 1702559986751,
     "user": {
      "displayName": "Alfian Bima Prastyo",
      "userId": "13770701840816320137"
     },
     "user_tz": -420
    },
    "id": "ac98da18-9e47-4740-924a-afd0f0ad4f5b"
   },
   "outputs": [],
   "source": [
    "model.compile(optimizer='adam', loss='sparse_categorical_crossentropy', metrics=['accuracy'])\n"
   ]
  },
  {
   "cell_type": "markdown",
   "id": "88a207e4-4bc4-4466-b1e9-37b52499f6df",
   "metadata": {},
   "source": [
    "### 3.2 Training Model"
   ]
  },
  {
   "cell_type": "code",
   "execution_count": 18,
   "id": "f6013b20-1796-466a-824b-37f0e82e09d9",
   "metadata": {
    "colab": {
     "base_uri": "https://localhost:8080/"
    },
    "collapsed": true,
    "executionInfo": {
     "elapsed": 30417,
     "status": "ok",
     "timestamp": 1702560017163,
     "user": {
      "displayName": "Alfian Bima Prastyo",
      "userId": "13770701840816320137"
     },
     "user_tz": -420
    },
    "id": "f6013b20-1796-466a-824b-37f0e82e09d9",
    "jupyter": {
     "outputs_hidden": true
    },
    "outputId": "8afd247c-17a2-40fd-ed24-a8852fcf83c7"
   },
   "outputs": [
    {
     "name": "stdout",
     "output_type": "stream",
     "text": [
      "Epoch 1/100\n",
      "55/55 [==============================] - 3s 22ms/step - loss: 3.0544 - accuracy: 0.1307 - val_loss: 2.9839 - val_accuracy: 0.2568\n",
      "Epoch 2/100\n",
      "55/55 [==============================] - 1s 14ms/step - loss: 2.9006 - accuracy: 0.3034 - val_loss: 2.7883 - val_accuracy: 0.3477\n",
      "Epoch 3/100\n",
      "55/55 [==============================] - 1s 11ms/step - loss: 2.6282 - accuracy: 0.3756 - val_loss: 2.4474 - val_accuracy: 0.4295\n",
      "Epoch 4/100\n",
      "55/55 [==============================] - 1s 10ms/step - loss: 2.2202 - accuracy: 0.5205 - val_loss: 2.0156 - val_accuracy: 0.5295\n",
      "Epoch 5/100\n",
      "55/55 [==============================] - 0s 7ms/step - loss: 1.7845 - accuracy: 0.5989 - val_loss: 1.6005 - val_accuracy: 0.6386\n",
      "Epoch 6/100\n",
      "55/55 [==============================] - 0s 5ms/step - loss: 1.4194 - accuracy: 0.6722 - val_loss: 1.3061 - val_accuracy: 0.6955\n",
      "Epoch 7/100\n",
      "55/55 [==============================] - 0s 5ms/step - loss: 1.1499 - accuracy: 0.7602 - val_loss: 1.0697 - val_accuracy: 0.7614\n",
      "Epoch 8/100\n",
      "55/55 [==============================] - 0s 5ms/step - loss: 0.9538 - accuracy: 0.8023 - val_loss: 0.9039 - val_accuracy: 0.8182\n",
      "Epoch 9/100\n",
      "55/55 [==============================] - 0s 5ms/step - loss: 0.8091 - accuracy: 0.8261 - val_loss: 0.7799 - val_accuracy: 0.8455\n",
      "Epoch 10/100\n",
      "55/55 [==============================] - 1s 9ms/step - loss: 0.7000 - accuracy: 0.8636 - val_loss: 0.6803 - val_accuracy: 0.8500\n",
      "Epoch 11/100\n",
      "55/55 [==============================] - 0s 8ms/step - loss: 0.6103 - accuracy: 0.8960 - val_loss: 0.6199 - val_accuracy: 0.8636\n",
      "Epoch 12/100\n",
      "55/55 [==============================] - 0s 7ms/step - loss: 0.5388 - accuracy: 0.8972 - val_loss: 0.5669 - val_accuracy: 0.8477\n",
      "Epoch 13/100\n",
      "55/55 [==============================] - 0s 5ms/step - loss: 0.4845 - accuracy: 0.9170 - val_loss: 0.5078 - val_accuracy: 0.8864\n",
      "Epoch 14/100\n",
      "55/55 [==============================] - 0s 5ms/step - loss: 0.4364 - accuracy: 0.9239 - val_loss: 0.4776 - val_accuracy: 0.8977\n",
      "Epoch 15/100\n",
      "55/55 [==============================] - 0s 7ms/step - loss: 0.3991 - accuracy: 0.9312 - val_loss: 0.4347 - val_accuracy: 0.8955\n",
      "Epoch 16/100\n",
      "55/55 [==============================] - 0s 4ms/step - loss: 0.3664 - accuracy: 0.9352 - val_loss: 0.4074 - val_accuracy: 0.8977\n",
      "Epoch 17/100\n",
      "55/55 [==============================] - 0s 5ms/step - loss: 0.3388 - accuracy: 0.9375 - val_loss: 0.3948 - val_accuracy: 0.9068\n",
      "Epoch 18/100\n",
      "55/55 [==============================] - 0s 7ms/step - loss: 0.3144 - accuracy: 0.9438 - val_loss: 0.3572 - val_accuracy: 0.9182\n",
      "Epoch 19/100\n",
      "55/55 [==============================] - 0s 7ms/step - loss: 0.2934 - accuracy: 0.9489 - val_loss: 0.3471 - val_accuracy: 0.9023\n",
      "Epoch 20/100\n",
      "55/55 [==============================] - 0s 5ms/step - loss: 0.2745 - accuracy: 0.9483 - val_loss: 0.3173 - val_accuracy: 0.9227\n",
      "Epoch 21/100\n",
      "55/55 [==============================] - 0s 5ms/step - loss: 0.2567 - accuracy: 0.9511 - val_loss: 0.3007 - val_accuracy: 0.9227\n",
      "Epoch 22/100\n",
      "55/55 [==============================] - 0s 4ms/step - loss: 0.2409 - accuracy: 0.9540 - val_loss: 0.2912 - val_accuracy: 0.9273\n",
      "Epoch 23/100\n",
      "55/55 [==============================] - 0s 6ms/step - loss: 0.2289 - accuracy: 0.9545 - val_loss: 0.2802 - val_accuracy: 0.9295\n",
      "Epoch 24/100\n",
      "55/55 [==============================] - 0s 4ms/step - loss: 0.2222 - accuracy: 0.9540 - val_loss: 0.2604 - val_accuracy: 0.9318\n",
      "Epoch 25/100\n",
      "55/55 [==============================] - 0s 6ms/step - loss: 0.2043 - accuracy: 0.9614 - val_loss: 0.2527 - val_accuracy: 0.9341\n",
      "Epoch 26/100\n",
      "55/55 [==============================] - 0s 7ms/step - loss: 0.1949 - accuracy: 0.9619 - val_loss: 0.2486 - val_accuracy: 0.9341\n",
      "Epoch 27/100\n",
      "55/55 [==============================] - 0s 6ms/step - loss: 0.1855 - accuracy: 0.9648 - val_loss: 0.2434 - val_accuracy: 0.9295\n",
      "Epoch 28/100\n",
      "55/55 [==============================] - 0s 7ms/step - loss: 0.1772 - accuracy: 0.9642 - val_loss: 0.2221 - val_accuracy: 0.9341\n",
      "Epoch 29/100\n",
      "55/55 [==============================] - 0s 4ms/step - loss: 0.1687 - accuracy: 0.9659 - val_loss: 0.2184 - val_accuracy: 0.9409\n",
      "Epoch 30/100\n",
      "55/55 [==============================] - 0s 4ms/step - loss: 0.1639 - accuracy: 0.9670 - val_loss: 0.2179 - val_accuracy: 0.9273\n",
      "Epoch 31/100\n",
      "55/55 [==============================] - 0s 5ms/step - loss: 0.1566 - accuracy: 0.9670 - val_loss: 0.1979 - val_accuracy: 0.9432\n",
      "Epoch 32/100\n",
      "55/55 [==============================] - 0s 6ms/step - loss: 0.1490 - accuracy: 0.9710 - val_loss: 0.1938 - val_accuracy: 0.9432\n",
      "Epoch 33/100\n",
      "55/55 [==============================] - 0s 5ms/step - loss: 0.1412 - accuracy: 0.9693 - val_loss: 0.1851 - val_accuracy: 0.9500\n",
      "Epoch 34/100\n",
      "55/55 [==============================] - 1s 9ms/step - loss: 0.1401 - accuracy: 0.9699 - val_loss: 0.1846 - val_accuracy: 0.9455\n",
      "Epoch 35/100\n",
      "55/55 [==============================] - 0s 8ms/step - loss: 0.1341 - accuracy: 0.9722 - val_loss: 0.1816 - val_accuracy: 0.9477\n",
      "Epoch 36/100\n",
      "55/55 [==============================] - 1s 10ms/step - loss: 0.1274 - accuracy: 0.9733 - val_loss: 0.1766 - val_accuracy: 0.9477\n",
      "Epoch 37/100\n",
      "55/55 [==============================] - 1s 11ms/step - loss: 0.1221 - accuracy: 0.9733 - val_loss: 0.1696 - val_accuracy: 0.9500\n",
      "Epoch 38/100\n",
      "55/55 [==============================] - 1s 11ms/step - loss: 0.1190 - accuracy: 0.9761 - val_loss: 0.1721 - val_accuracy: 0.9523\n",
      "Epoch 39/100\n",
      "55/55 [==============================] - 0s 8ms/step - loss: 0.1167 - accuracy: 0.9733 - val_loss: 0.1719 - val_accuracy: 0.9341\n",
      "Epoch 40/100\n",
      "55/55 [==============================] - 1s 10ms/step - loss: 0.1103 - accuracy: 0.9812 - val_loss: 0.1621 - val_accuracy: 0.9500\n",
      "Epoch 41/100\n",
      "55/55 [==============================] - 0s 8ms/step - loss: 0.1088 - accuracy: 0.9739 - val_loss: 0.1666 - val_accuracy: 0.9432\n",
      "Epoch 42/100\n",
      "55/55 [==============================] - 1s 10ms/step - loss: 0.1049 - accuracy: 0.9761 - val_loss: 0.1511 - val_accuracy: 0.9523\n",
      "Epoch 43/100\n",
      "55/55 [==============================] - 1s 9ms/step - loss: 0.1017 - accuracy: 0.9784 - val_loss: 0.1412 - val_accuracy: 0.9591\n",
      "Epoch 44/100\n",
      "55/55 [==============================] - 0s 5ms/step - loss: 0.0967 - accuracy: 0.9790 - val_loss: 0.1476 - val_accuracy: 0.9500\n",
      "Epoch 45/100\n",
      "55/55 [==============================] - 0s 7ms/step - loss: 0.0956 - accuracy: 0.9790 - val_loss: 0.1354 - val_accuracy: 0.9636\n",
      "Epoch 46/100\n",
      "55/55 [==============================] - 0s 5ms/step - loss: 0.0934 - accuracy: 0.9807 - val_loss: 0.1337 - val_accuracy: 0.9523\n",
      "Epoch 47/100\n",
      "55/55 [==============================] - 0s 5ms/step - loss: 0.0915 - accuracy: 0.9790 - val_loss: 0.1501 - val_accuracy: 0.9455\n",
      "Epoch 48/100\n",
      "55/55 [==============================] - 0s 7ms/step - loss: 0.0888 - accuracy: 0.9807 - val_loss: 0.1427 - val_accuracy: 0.9500\n",
      "Epoch 49/100\n",
      "55/55 [==============================] - 0s 5ms/step - loss: 0.0857 - accuracy: 0.9795 - val_loss: 0.1269 - val_accuracy: 0.9568\n",
      "Epoch 50/100\n",
      "55/55 [==============================] - 0s 7ms/step - loss: 0.0829 - accuracy: 0.9830 - val_loss: 0.1302 - val_accuracy: 0.9545\n",
      "Epoch 51/100\n",
      "55/55 [==============================] - 0s 6ms/step - loss: 0.0801 - accuracy: 0.9830 - val_loss: 0.1212 - val_accuracy: 0.9523\n",
      "Epoch 52/100\n",
      "55/55 [==============================] - 0s 5ms/step - loss: 0.0770 - accuracy: 0.9847 - val_loss: 0.1323 - val_accuracy: 0.9409\n",
      "Epoch 53/100\n",
      "55/55 [==============================] - 0s 4ms/step - loss: 0.0788 - accuracy: 0.9801 - val_loss: 0.1163 - val_accuracy: 0.9614\n",
      "Epoch 54/100\n",
      "55/55 [==============================] - 0s 2ms/step - loss: 0.0744 - accuracy: 0.9841 - val_loss: 0.1215 - val_accuracy: 0.9523\n",
      "Epoch 55/100\n",
      "55/55 [==============================] - 0s 3ms/step - loss: 0.0735 - accuracy: 0.9801 - val_loss: 0.1187 - val_accuracy: 0.9591\n",
      "Epoch 56/100\n",
      "55/55 [==============================] - 0s 3ms/step - loss: 0.0715 - accuracy: 0.9830 - val_loss: 0.1149 - val_accuracy: 0.9614\n",
      "Epoch 57/100\n",
      "55/55 [==============================] - 0s 3ms/step - loss: 0.0727 - accuracy: 0.9841 - val_loss: 0.1222 - val_accuracy: 0.9591\n",
      "Epoch 58/100\n",
      "55/55 [==============================] - 0s 2ms/step - loss: 0.0698 - accuracy: 0.9847 - val_loss: 0.1103 - val_accuracy: 0.9568\n",
      "Epoch 59/100\n",
      "55/55 [==============================] - 0s 2ms/step - loss: 0.0663 - accuracy: 0.9864 - val_loss: 0.1211 - val_accuracy: 0.9591\n",
      "Epoch 60/100\n",
      "55/55 [==============================] - 0s 3ms/step - loss: 0.0652 - accuracy: 0.9818 - val_loss: 0.1087 - val_accuracy: 0.9545\n",
      "Epoch 61/100\n",
      "55/55 [==============================] - 0s 2ms/step - loss: 0.0639 - accuracy: 0.9852 - val_loss: 0.1004 - val_accuracy: 0.9614\n",
      "Epoch 62/100\n",
      "55/55 [==============================] - 0s 3ms/step - loss: 0.0677 - accuracy: 0.9824 - val_loss: 0.1150 - val_accuracy: 0.9545\n",
      "Epoch 63/100\n",
      "55/55 [==============================] - 0s 3ms/step - loss: 0.0631 - accuracy: 0.9852 - val_loss: 0.1088 - val_accuracy: 0.9523\n",
      "Epoch 64/100\n",
      "55/55 [==============================] - 0s 2ms/step - loss: 0.0612 - accuracy: 0.9864 - val_loss: 0.1032 - val_accuracy: 0.9591\n",
      "Epoch 65/100\n",
      "55/55 [==============================] - 0s 2ms/step - loss: 0.0622 - accuracy: 0.9841 - val_loss: 0.0978 - val_accuracy: 0.9545\n",
      "Epoch 66/100\n",
      "55/55 [==============================] - 0s 3ms/step - loss: 0.0586 - accuracy: 0.9886 - val_loss: 0.1027 - val_accuracy: 0.9568\n",
      "Epoch 67/100\n",
      "55/55 [==============================] - 0s 2ms/step - loss: 0.0581 - accuracy: 0.9835 - val_loss: 0.1153 - val_accuracy: 0.9591\n",
      "Epoch 68/100\n",
      "55/55 [==============================] - 0s 3ms/step - loss: 0.0600 - accuracy: 0.9858 - val_loss: 0.0938 - val_accuracy: 0.9659\n",
      "Epoch 69/100\n",
      "55/55 [==============================] - 0s 3ms/step - loss: 0.0577 - accuracy: 0.9864 - val_loss: 0.1031 - val_accuracy: 0.9545\n",
      "Epoch 70/100\n",
      "55/55 [==============================] - 0s 2ms/step - loss: 0.0533 - accuracy: 0.9847 - val_loss: 0.0931 - val_accuracy: 0.9705\n",
      "Epoch 71/100\n",
      "55/55 [==============================] - 0s 2ms/step - loss: 0.0549 - accuracy: 0.9869 - val_loss: 0.1010 - val_accuracy: 0.9545\n",
      "Epoch 72/100\n",
      "55/55 [==============================] - 0s 3ms/step - loss: 0.0575 - accuracy: 0.9847 - val_loss: 0.0983 - val_accuracy: 0.9523\n",
      "Epoch 73/100\n",
      "55/55 [==============================] - 0s 3ms/step - loss: 0.0573 - accuracy: 0.9858 - val_loss: 0.0972 - val_accuracy: 0.9591\n",
      "Epoch 74/100\n",
      "55/55 [==============================] - 0s 3ms/step - loss: 0.0538 - accuracy: 0.9864 - val_loss: 0.0857 - val_accuracy: 0.9727\n",
      "Epoch 75/100\n",
      "55/55 [==============================] - 0s 2ms/step - loss: 0.0517 - accuracy: 0.9847 - val_loss: 0.0945 - val_accuracy: 0.9659\n",
      "Epoch 76/100\n",
      "55/55 [==============================] - 0s 3ms/step - loss: 0.0514 - accuracy: 0.9858 - val_loss: 0.0986 - val_accuracy: 0.9591\n",
      "Epoch 77/100\n",
      "55/55 [==============================] - 0s 2ms/step - loss: 0.0507 - accuracy: 0.9858 - val_loss: 0.0868 - val_accuracy: 0.9614\n",
      "Epoch 78/100\n",
      "55/55 [==============================] - 0s 3ms/step - loss: 0.0493 - accuracy: 0.9886 - val_loss: 0.0865 - val_accuracy: 0.9682\n",
      "Epoch 79/100\n",
      "55/55 [==============================] - 0s 2ms/step - loss: 0.0485 - accuracy: 0.9892 - val_loss: 0.1075 - val_accuracy: 0.9500\n",
      "Epoch 80/100\n",
      "55/55 [==============================] - 0s 2ms/step - loss: 0.0511 - accuracy: 0.9847 - val_loss: 0.0873 - val_accuracy: 0.9682\n",
      "Epoch 81/100\n",
      "55/55 [==============================] - 0s 2ms/step - loss: 0.0491 - accuracy: 0.9869 - val_loss: 0.0869 - val_accuracy: 0.9682\n",
      "Epoch 82/100\n",
      "55/55 [==============================] - 0s 3ms/step - loss: 0.0496 - accuracy: 0.9847 - val_loss: 0.0804 - val_accuracy: 0.9727\n",
      "Epoch 83/100\n",
      "55/55 [==============================] - 0s 3ms/step - loss: 0.0453 - accuracy: 0.9875 - val_loss: 0.0810 - val_accuracy: 0.9682\n",
      "Epoch 84/100\n",
      "55/55 [==============================] - 0s 3ms/step - loss: 0.0484 - accuracy: 0.9881 - val_loss: 0.0810 - val_accuracy: 0.9727\n",
      "Epoch 85/100\n",
      "55/55 [==============================] - 0s 2ms/step - loss: 0.0489 - accuracy: 0.9858 - val_loss: 0.0852 - val_accuracy: 0.9636\n",
      "Epoch 86/100\n",
      "55/55 [==============================] - 0s 2ms/step - loss: 0.0458 - accuracy: 0.9869 - val_loss: 0.0771 - val_accuracy: 0.9705\n",
      "Epoch 87/100\n",
      "55/55 [==============================] - 0s 2ms/step - loss: 0.0450 - accuracy: 0.9881 - val_loss: 0.0842 - val_accuracy: 0.9682\n",
      "Epoch 88/100\n",
      "55/55 [==============================] - 0s 2ms/step - loss: 0.0426 - accuracy: 0.9864 - val_loss: 0.0839 - val_accuracy: 0.9636\n",
      "Epoch 89/100\n",
      "55/55 [==============================] - 0s 2ms/step - loss: 0.0452 - accuracy: 0.9881 - val_loss: 0.0862 - val_accuracy: 0.9682\n",
      "Epoch 90/100\n",
      "55/55 [==============================] - 0s 3ms/step - loss: 0.0427 - accuracy: 0.9858 - val_loss: 0.0817 - val_accuracy: 0.9659\n",
      "Epoch 91/100\n",
      "55/55 [==============================] - 0s 3ms/step - loss: 0.0426 - accuracy: 0.9915 - val_loss: 0.0813 - val_accuracy: 0.9636\n",
      "Epoch 92/100\n",
      "55/55 [==============================] - 0s 3ms/step - loss: 0.0439 - accuracy: 0.9869 - val_loss: 0.0740 - val_accuracy: 0.9727\n",
      "Epoch 93/100\n",
      "55/55 [==============================] - 0s 2ms/step - loss: 0.0434 - accuracy: 0.9875 - val_loss: 0.0774 - val_accuracy: 0.9659\n",
      "Epoch 94/100\n",
      "55/55 [==============================] - 0s 2ms/step - loss: 0.0429 - accuracy: 0.9869 - val_loss: 0.0766 - val_accuracy: 0.9727\n",
      "Epoch 95/100\n",
      "55/55 [==============================] - 0s 2ms/step - loss: 0.0431 - accuracy: 0.9852 - val_loss: 0.0872 - val_accuracy: 0.9636\n",
      "Epoch 96/100\n",
      "55/55 [==============================] - 0s 2ms/step - loss: 0.0451 - accuracy: 0.9858 - val_loss: 0.0834 - val_accuracy: 0.9659\n",
      "Epoch 97/100\n",
      "55/55 [==============================] - 0s 3ms/step - loss: 0.0417 - accuracy: 0.9881 - val_loss: 0.0709 - val_accuracy: 0.9773\n",
      "Epoch 98/100\n",
      "55/55 [==============================] - 0s 2ms/step - loss: 0.0396 - accuracy: 0.9869 - val_loss: 0.0791 - val_accuracy: 0.9659\n",
      "Epoch 99/100\n",
      "55/55 [==============================] - 0s 3ms/step - loss: 0.0398 - accuracy: 0.9886 - val_loss: 0.0764 - val_accuracy: 0.9659\n",
      "Epoch 100/100\n",
      "55/55 [==============================] - 0s 4ms/step - loss: 0.0392 - accuracy: 0.9875 - val_loss: 0.0791 - val_accuracy: 0.9682\n"
     ]
    },
    {
     "data": {
      "text/plain": [
       "<keras.src.callbacks.History at 0x7dc1357d7730>"
      ]
     },
     "execution_count": 18,
     "metadata": {},
     "output_type": "execute_result"
    }
   ],
   "source": [
    "model.fit(X_train, y_train, epochs=100, batch_size=32, validation_data=(X_test, y_test))"
   ]
  },
  {
   "cell_type": "markdown",
   "id": "a6f7c62b-1dae-4154-a3f3-24e8da23bcc6",
   "metadata": {},
   "source": [
    "### 3.3 Evaluate Model Performance"
   ]
  },
  {
   "cell_type": "code",
   "execution_count": 19,
   "id": "14a4d0d7-c24b-4779-ba8b-ca288e6276f0",
   "metadata": {
    "colab": {
     "base_uri": "https://localhost:8080/"
    },
    "executionInfo": {
     "elapsed": 20,
     "status": "ok",
     "timestamp": 1702560017164,
     "user": {
      "displayName": "Alfian Bima Prastyo",
      "userId": "13770701840816320137"
     },
     "user_tz": -420
    },
    "id": "14a4d0d7-c24b-4779-ba8b-ca288e6276f0",
    "outputId": "421d049f-4fbc-4ff1-b904-6144409844fa"
   },
   "outputs": [
    {
     "name": "stdout",
     "output_type": "stream",
     "text": [
      "14/14 [==============================] - 0s 2ms/step - loss: 0.0791 - accuracy: 0.9682\n",
      "Test Loss: 0.0790659710764885, Test Accuracy: 0.9681817889213562\n"
     ]
    }
   ],
   "source": [
    "loss, accuracy = model.evaluate(X_test, y_test)\n",
    "print(f'Test Loss: {loss}, Test Accuracy: {accuracy}')\n"
   ]
  },
  {
   "cell_type": "code",
   "execution_count": 20,
   "id": "2UczQ3TKaNmP",
   "metadata": {
    "colab": {
     "base_uri": "https://localhost:8080/"
    },
    "executionInfo": {
     "elapsed": 566,
     "status": "ok",
     "timestamp": 1702560017726,
     "user": {
      "displayName": "Alfian Bima Prastyo",
      "userId": "13770701840816320137"
     },
     "user_tz": -420
    },
    "id": "2UczQ3TKaNmP",
    "outputId": "a836852a-2537-4c3b-b99e-ad37a6df0b62"
   },
   "outputs": [
    {
     "name": "stdout",
     "output_type": "stream",
     "text": [
      "14/14 [==============================] - 0s 3ms/step\n"
     ]
    }
   ],
   "source": [
    "predictions = model.predict(X_test)"
   ]
  },
  {
   "cell_type": "code",
   "execution_count": 21,
   "id": "ChrL2hsbaTFt",
   "metadata": {
    "colab": {
     "base_uri": "https://localhost:8080/"
    },
    "collapsed": true,
    "executionInfo": {
     "elapsed": 11,
     "status": "ok",
     "timestamp": 1702560017726,
     "user": {
      "displayName": "Alfian Bima Prastyo",
      "userId": "13770701840816320137"
     },
     "user_tz": -420
    },
    "id": "ChrL2hsbaTFt",
    "jupyter": {
     "outputs_hidden": true
    },
    "outputId": "923efd1b-0347-448f-b703-5fd19aacd3cd"
   },
   "outputs": [
    {
     "name": "stdout",
     "output_type": "stream",
     "text": [
      "Predictions: [[2.5535565e-23 1.8306526e-18 1.5171321e-14 ... 5.6042433e-09\n",
      "  8.1424194e-21 2.5672649e-04]\n",
      " [7.1198440e-20 6.4168442e-15 1.7569290e-12 ... 1.4708969e-06\n",
      "  1.6953276e-14 9.9755174e-01]\n",
      " [2.8373580e-12 2.9040154e-10 6.5252027e-07 ... 7.0423715e-07\n",
      "  2.0590073e-14 1.4421926e-13]\n",
      " ...\n",
      " [7.4776750e-19 1.5184335e-09 1.9616850e-09 ... 2.6498049e-16\n",
      "  2.8656594e-15 1.3295749e-05]\n",
      " [1.2046139e-15 1.2291367e-06 1.1115062e-07 ... 4.6937162e-15\n",
      "  2.3514339e-13 1.2612879e-05]\n",
      " [1.0661704e-12 5.4873325e-11 4.0643791e-09 ... 8.3779995e-21\n",
      "  8.2373279e-13 5.1926379e-22]]\n"
     ]
    }
   ],
   "source": [
    "print(f'Predictions: {predictions}')"
   ]
  },
  {
   "cell_type": "code",
   "execution_count": 22,
   "id": "z8CS0fFnaZr_",
   "metadata": {
    "colab": {
     "base_uri": "https://localhost:8080/"
    },
    "collapsed": true,
    "executionInfo": {
     "elapsed": 8,
     "status": "ok",
     "timestamp": 1702560017726,
     "user": {
      "displayName": "Alfian Bima Prastyo",
      "userId": "13770701840816320137"
     },
     "user_tz": -420
    },
    "id": "z8CS0fFnaZr_",
    "jupyter": {
     "outputs_hidden": true,
     "source_hidden": true
    },
    "outputId": "652d6360-fb73-4755-e104-b30c13df75af"
   },
   "outputs": [
    {
     "name": "stdout",
     "output_type": "stream",
     "text": [
      "14/14 [==============================] - 0s 2ms/step\n",
      "Accuracy: 0.9681818181818181\n",
      "              precision    recall  f1-score   support\n",
      "\n",
      "           0       1.00      1.00      1.00        23\n",
      "           1       1.00      1.00      1.00        21\n",
      "           2       0.95      0.90      0.92        20\n",
      "           3       1.00      1.00      1.00        26\n",
      "           4       1.00      1.00      1.00        27\n",
      "           5       0.94      1.00      0.97        17\n",
      "           6       0.89      1.00      0.94        17\n",
      "           7       1.00      1.00      1.00        14\n",
      "           8       0.90      0.83      0.86        23\n",
      "           9       0.95      1.00      0.98        20\n",
      "          10       0.79      1.00      0.88        11\n",
      "          11       1.00      0.90      0.95        21\n",
      "          12       1.00      1.00      1.00        19\n",
      "          13       1.00      0.96      0.98        24\n",
      "          14       1.00      1.00      1.00        19\n",
      "          15       1.00      1.00      1.00        17\n",
      "          16       1.00      1.00      1.00        14\n",
      "          17       0.96      0.96      0.96        23\n",
      "          18       1.00      0.91      0.95        23\n",
      "          19       1.00      1.00      1.00        23\n",
      "          20       0.85      0.89      0.87        19\n",
      "          21       1.00      1.00      1.00        19\n",
      "\n",
      "    accuracy                           0.97       440\n",
      "   macro avg       0.97      0.97      0.97       440\n",
      "weighted avg       0.97      0.97      0.97       440\n",
      "\n",
      "[[23  0  0  0  0  0  0  0  0  0  0  0  0  0  0  0  0  0  0  0  0  0]\n",
      " [ 0 21  0  0  0  0  0  0  0  0  0  0  0  0  0  0  0  0  0  0  0  0]\n",
      " [ 0  0 18  0  0  0  0  0  0  0  2  0  0  0  0  0  0  0  0  0  0  0]\n",
      " [ 0  0  0 26  0  0  0  0  0  0  0  0  0  0  0  0  0  0  0  0  0  0]\n",
      " [ 0  0  0  0 27  0  0  0  0  0  0  0  0  0  0  0  0  0  0  0  0  0]\n",
      " [ 0  0  0  0  0 17  0  0  0  0  0  0  0  0  0  0  0  0  0  0  0  0]\n",
      " [ 0  0  0  0  0  0 17  0  0  0  0  0  0  0  0  0  0  0  0  0  0  0]\n",
      " [ 0  0  0  0  0  0  0 14  0  0  0  0  0  0  0  0  0  0  0  0  0  0]\n",
      " [ 0  0  0  0  0  1  0  0 19  0  0  0  0  0  0  0  0  1  0  0  2  0]\n",
      " [ 0  0  0  0  0  0  0  0  0 20  0  0  0  0  0  0  0  0  0  0  0  0]\n",
      " [ 0  0  0  0  0  0  0  0  0  0 11  0  0  0  0  0  0  0  0  0  0  0]\n",
      " [ 0  0  0  0  0  0  2  0  0  0  0 19  0  0  0  0  0  0  0  0  0  0]\n",
      " [ 0  0  0  0  0  0  0  0  0  0  0  0 19  0  0  0  0  0  0  0  0  0]\n",
      " [ 0  0  0  0  0  0  0  0  0  0  1  0  0 23  0  0  0  0  0  0  0  0]\n",
      " [ 0  0  0  0  0  0  0  0  0  0  0  0  0  0 19  0  0  0  0  0  0  0]\n",
      " [ 0  0  0  0  0  0  0  0  0  0  0  0  0  0  0 17  0  0  0  0  0  0]\n",
      " [ 0  0  0  0  0  0  0  0  0  0  0  0  0  0  0  0 14  0  0  0  0  0]\n",
      " [ 0  0  0  0  0  0  0  0  0  0  0  0  0  0  0  0  0 22  0  0  1  0]\n",
      " [ 0  0  1  0  0  0  0  0  0  1  0  0  0  0  0  0  0  0 21  0  0  0]\n",
      " [ 0  0  0  0  0  0  0  0  0  0  0  0  0  0  0  0  0  0  0 23  0  0]\n",
      " [ 0  0  0  0  0  0  0  0  2  0  0  0  0  0  0  0  0  0  0  0 17  0]\n",
      " [ 0  0  0  0  0  0  0  0  0  0  0  0  0  0  0  0  0  0  0  0  0 19]]\n"
     ]
    }
   ],
   "source": [
    "import numpy as np\n",
    "from sklearn.metrics import accuracy_score, classification_report, confusion_matrix\n",
    "\n",
    "# Assuming model is your loaded Sequential model\n",
    "predictions = model.predict(X_test)\n",
    "\n",
    "# Convert probabilities to class labels\n",
    "y_pred = np.argmax(predictions, axis=1)\n",
    "\n",
    "# Evaluate accuracy\n",
    "accuracy = accuracy_score(y_test, y_pred)\n",
    "print(f'Accuracy: {accuracy}')\n",
    "\n",
    "# Display other classification metrics\n",
    "print(classification_report(y_test, y_pred))\n",
    "\n",
    "# Display confusion matrix\n",
    "print(confusion_matrix(y_test, y_pred))\n"
   ]
  },
  {
   "cell_type": "markdown",
   "id": "f315e013-f450-4ad5-a741-05810936058b",
   "metadata": {
    "id": "f315e013-f450-4ad5-a741-05810936058b"
   },
   "source": [
    "## 4. Save Model"
   ]
  },
  {
   "cell_type": "code",
   "execution_count": 23,
   "id": "24cdd51e-c220-41f8-9513-a7b20010eddc",
   "metadata": {
    "colab": {
     "base_uri": "https://localhost:8080/"
    },
    "executionInfo": {
     "elapsed": 7,
     "status": "ok",
     "timestamp": 1702560017726,
     "user": {
      "displayName": "Alfian Bima Prastyo",
      "userId": "13770701840816320137"
     },
     "user_tz": -420
    },
    "id": "24cdd51e-c220-41f8-9513-a7b20010eddc",
    "outputId": "14312973-98b4-4510-ad45-b1fa91604be3"
   },
   "outputs": [
    {
     "name": "stderr",
     "output_type": "stream",
     "text": [
      "/usr/local/lib/python3.10/dist-packages/keras/src/engine/training.py:3103: UserWarning: You are saving your model as an HDF5 file via `model.save()`. This file format is considered legacy. We recommend using instead the native Keras format, e.g. `model.save('my_model.keras')`.\n",
      "  saving_api.save_model(\n"
     ]
    }
   ],
   "source": [
    "model.save('model.h5')"
   ]
  },
  {
   "cell_type": "code",
   "execution_count": 24,
   "id": "cb9b319f-c463-4ca4-9bb8-184d6e9f2fbb",
   "metadata": {
    "colab": {
     "base_uri": "https://localhost:8080/",
     "height": 17
    },
    "executionInfo": {
     "elapsed": 6,
     "status": "ok",
     "timestamp": 1702560017727,
     "user": {
      "displayName": "Alfian Bima Prastyo",
      "userId": "13770701840816320137"
     },
     "user_tz": -420
    },
    "id": "cb9b319f-c463-4ca4-9bb8-184d6e9f2fbb",
    "outputId": "5feaa7d5-e883-4ead-e862-f9244a6075c2"
   },
   "outputs": [
    {
     "data": {
      "application/javascript": [
       "\n",
       "    async function download(id, filename, size) {\n",
       "      if (!google.colab.kernel.accessAllowed) {\n",
       "        return;\n",
       "      }\n",
       "      const div = document.createElement('div');\n",
       "      const label = document.createElement('label');\n",
       "      label.textContent = `Downloading \"${filename}\": `;\n",
       "      div.appendChild(label);\n",
       "      const progress = document.createElement('progress');\n",
       "      progress.max = size;\n",
       "      div.appendChild(progress);\n",
       "      document.body.appendChild(div);\n",
       "\n",
       "      const buffers = [];\n",
       "      let downloaded = 0;\n",
       "\n",
       "      const channel = await google.colab.kernel.comms.open(id);\n",
       "      // Send a message to notify the kernel that we're ready.\n",
       "      channel.send({})\n",
       "\n",
       "      for await (const message of channel.messages) {\n",
       "        // Send a message to notify the kernel that we're ready.\n",
       "        channel.send({})\n",
       "        if (message.buffers) {\n",
       "          for (const buffer of message.buffers) {\n",
       "            buffers.push(buffer);\n",
       "            downloaded += buffer.byteLength;\n",
       "            progress.value = downloaded;\n",
       "          }\n",
       "        }\n",
       "      }\n",
       "      const blob = new Blob(buffers, {type: 'application/binary'});\n",
       "      const a = document.createElement('a');\n",
       "      a.href = window.URL.createObjectURL(blob);\n",
       "      a.download = filename;\n",
       "      div.appendChild(a);\n",
       "      a.click();\n",
       "      div.remove();\n",
       "    }\n",
       "  "
      ],
      "text/plain": [
       "<IPython.core.display.Javascript object>"
      ]
     },
     "metadata": {},
     "output_type": "display_data"
    },
    {
     "data": {
      "application/javascript": [
       "download(\"download_492911e7-1b41-46ca-8a39-08d651823751\", \"model.h5\", 72992)"
      ],
      "text/plain": [
       "<IPython.core.display.Javascript object>"
      ]
     },
     "metadata": {},
     "output_type": "display_data"
    }
   ],
   "source": [
    "from google.colab import files\n",
    "\n",
    "files.download('model.h5')"
   ]
  },
  {
   "cell_type": "code",
   "execution_count": 25,
   "id": "1d821254-fa82-40ae-9cd3-3cdac4a6ec40",
   "metadata": {
    "executionInfo": {
     "elapsed": 2,
     "status": "ok",
     "timestamp": 1702560018152,
     "user": {
      "displayName": "Alfian Bima Prastyo",
      "userId": "13770701840816320137"
     },
     "user_tz": -420
    },
    "id": "1d821254-fa82-40ae-9cd3-3cdac4a6ec40"
   },
   "outputs": [],
   "source": [
    "import tensorflowjs as tfjs\n",
    "tfjs.converters.save_keras_model(model,'models')"
   ]
  },
  {
   "cell_type": "code",
   "execution_count": 26,
   "id": "2WzSiQ3jfHwL",
   "metadata": {
    "colab": {
     "base_uri": "https://localhost:8080/",
     "height": 17
    },
    "executionInfo": {
     "elapsed": 566,
     "status": "ok",
     "timestamp": 1702560064266,
     "user": {
      "displayName": "Alfian Bima Prastyo",
      "userId": "13770701840816320137"
     },
     "user_tz": -420
    },
    "id": "2WzSiQ3jfHwL",
    "outputId": "d98d1781-2cc5-4e6b-ba65-3d52437247be"
   },
   "outputs": [
    {
     "data": {
      "application/javascript": [
       "\n",
       "    async function download(id, filename, size) {\n",
       "      if (!google.colab.kernel.accessAllowed) {\n",
       "        return;\n",
       "      }\n",
       "      const div = document.createElement('div');\n",
       "      const label = document.createElement('label');\n",
       "      label.textContent = `Downloading \"${filename}\": `;\n",
       "      div.appendChild(label);\n",
       "      const progress = document.createElement('progress');\n",
       "      progress.max = size;\n",
       "      div.appendChild(progress);\n",
       "      document.body.appendChild(div);\n",
       "\n",
       "      const buffers = [];\n",
       "      let downloaded = 0;\n",
       "\n",
       "      const channel = await google.colab.kernel.comms.open(id);\n",
       "      // Send a message to notify the kernel that we're ready.\n",
       "      channel.send({})\n",
       "\n",
       "      for await (const message of channel.messages) {\n",
       "        // Send a message to notify the kernel that we're ready.\n",
       "        channel.send({})\n",
       "        if (message.buffers) {\n",
       "          for (const buffer of message.buffers) {\n",
       "            buffers.push(buffer);\n",
       "            downloaded += buffer.byteLength;\n",
       "            progress.value = downloaded;\n",
       "          }\n",
       "        }\n",
       "      }\n",
       "      const blob = new Blob(buffers, {type: 'application/binary'});\n",
       "      const a = document.createElement('a');\n",
       "      a.href = window.URL.createObjectURL(blob);\n",
       "      a.download = filename;\n",
       "      div.appendChild(a);\n",
       "      a.click();\n",
       "      div.remove();\n",
       "    }\n",
       "  "
      ],
      "text/plain": [
       "<IPython.core.display.Javascript object>"
      ]
     },
     "metadata": {},
     "output_type": "display_data"
    },
    {
     "data": {
      "application/javascript": [
       "download(\"download_192971b6-6df7-44bb-9ac1-80219414e185\", \"model.json\", 3168)"
      ],
      "text/plain": [
       "<IPython.core.display.Javascript object>"
      ]
     },
     "metadata": {},
     "output_type": "display_data"
    }
   ],
   "source": [
    "from google.colab import files\n",
    "files.download('models/model.json')"
   ]
  }
 ],
 "metadata": {
  "colab": {
   "provenance": [
    {
     "file_id": "1xbJdF0FDZsNhXAAZq14_UAKLRM-5QrZz",
     "timestamp": 1702560187841
    }
   ]
  },
  "kernelspec": {
   "display_name": "Python 3 (ipykernel)",
   "language": "python",
   "name": "python3"
  },
  "language_info": {
   "codemirror_mode": {
    "name": "ipython",
    "version": 3
   },
   "file_extension": ".py",
   "mimetype": "text/x-python",
   "name": "python",
   "nbconvert_exporter": "python",
   "pygments_lexer": "ipython3",
   "version": "3.11.3"
  }
 },
 "nbformat": 4,
 "nbformat_minor": 5
}
