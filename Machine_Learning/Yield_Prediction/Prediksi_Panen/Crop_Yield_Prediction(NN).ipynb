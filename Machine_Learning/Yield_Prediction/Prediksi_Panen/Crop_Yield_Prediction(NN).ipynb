{
 "cells": [
  {
   "cell_type": "markdown",
   "id": "12873409-d261-4c67-aa0f-1b6fe75cdd15",
   "metadata": {},
   "source": [
    "## 1.Load Data"
   ]
  },
  {
   "cell_type": "code",
   "execution_count": 3,
   "id": "f298d630-b775-4d4d-b875-104b5d077c87",
   "metadata": {
    "executionInfo": {
     "elapsed": 1767,
     "status": "ok",
     "timestamp": 1702554101852,
     "user": {
      "displayName": "Alfian Bima Prastyo",
      "userId": "13770701840816320137"
     },
     "user_tz": -420
    },
    "id": "f298d630-b775-4d4d-b875-104b5d077c87"
   },
   "outputs": [],
   "source": [
    "import numpy as np\n",
    "import pandas as pd"
   ]
  },
  {
   "cell_type": "code",
   "execution_count": 7,
   "id": "1b14fb8c-4c49-4923-b317-2a2f749c5d78",
   "metadata": {
    "executionInfo": {
     "elapsed": 340,
     "status": "ok",
     "timestamp": 1702554253240,
     "user": {
      "displayName": "Alfian Bima Prastyo",
      "userId": "13770701840816320137"
     },
     "user_tz": -420
    },
    "id": "1b14fb8c-4c49-4923-b317-2a2f749c5d78"
   },
   "outputs": [],
   "source": [
    "df = pd.read_csv('yield_df.csv')"
   ]
  },
  {
   "cell_type": "code",
   "execution_count": 8,
   "id": "80bc3fc7-7dd6-43cb-9ea3-1ec5570c72ad",
   "metadata": {
    "colab": {
     "base_uri": "https://localhost:8080/",
     "height": 206
    },
    "executionInfo": {
     "elapsed": 288,
     "status": "ok",
     "timestamp": 1702554258916,
     "user": {
      "displayName": "Alfian Bima Prastyo",
      "userId": "13770701840816320137"
     },
     "user_tz": -420
    },
    "id": "80bc3fc7-7dd6-43cb-9ea3-1ec5570c72ad",
    "outputId": "6c8a7807-cfbe-40ca-de8d-069ef41f0fe6"
   },
   "outputs": [
    {
     "data": {
      "text/html": [
       "\n",
       "  <div id=\"df-960ce751-0cdc-4e32-82e7-4819b1c8302c\" class=\"colab-df-container\">\n",
       "    <div>\n",
       "<style scoped>\n",
       "    .dataframe tbody tr th:only-of-type {\n",
       "        vertical-align: middle;\n",
       "    }\n",
       "\n",
       "    .dataframe tbody tr th {\n",
       "        vertical-align: top;\n",
       "    }\n",
       "\n",
       "    .dataframe thead th {\n",
       "        text-align: right;\n",
       "    }\n",
       "</style>\n",
       "<table border=\"1\" class=\"dataframe\">\n",
       "  <thead>\n",
       "    <tr style=\"text-align: right;\">\n",
       "      <th></th>\n",
       "      <th>Unnamed: 0</th>\n",
       "      <th>Area</th>\n",
       "      <th>Item</th>\n",
       "      <th>Year</th>\n",
       "      <th>hg/ha_yield</th>\n",
       "      <th>average_rain_fall_mm_per_year</th>\n",
       "      <th>pesticides_tonnes</th>\n",
       "      <th>avg_temp</th>\n",
       "    </tr>\n",
       "  </thead>\n",
       "  <tbody>\n",
       "    <tr>\n",
       "      <th>0</th>\n",
       "      <td>0</td>\n",
       "      <td>Albania</td>\n",
       "      <td>Maize</td>\n",
       "      <td>1990</td>\n",
       "      <td>36613</td>\n",
       "      <td>1485.0</td>\n",
       "      <td>121.0</td>\n",
       "      <td>16.37</td>\n",
       "    </tr>\n",
       "    <tr>\n",
       "      <th>1</th>\n",
       "      <td>1</td>\n",
       "      <td>Albania</td>\n",
       "      <td>Potatoes</td>\n",
       "      <td>1990</td>\n",
       "      <td>66667</td>\n",
       "      <td>1485.0</td>\n",
       "      <td>121.0</td>\n",
       "      <td>16.37</td>\n",
       "    </tr>\n",
       "    <tr>\n",
       "      <th>2</th>\n",
       "      <td>2</td>\n",
       "      <td>Albania</td>\n",
       "      <td>Rice, paddy</td>\n",
       "      <td>1990</td>\n",
       "      <td>23333</td>\n",
       "      <td>1485.0</td>\n",
       "      <td>121.0</td>\n",
       "      <td>16.37</td>\n",
       "    </tr>\n",
       "    <tr>\n",
       "      <th>3</th>\n",
       "      <td>3</td>\n",
       "      <td>Albania</td>\n",
       "      <td>Sorghum</td>\n",
       "      <td>1990</td>\n",
       "      <td>12500</td>\n",
       "      <td>1485.0</td>\n",
       "      <td>121.0</td>\n",
       "      <td>16.37</td>\n",
       "    </tr>\n",
       "    <tr>\n",
       "      <th>4</th>\n",
       "      <td>4</td>\n",
       "      <td>Albania</td>\n",
       "      <td>Soybeans</td>\n",
       "      <td>1990</td>\n",
       "      <td>7000</td>\n",
       "      <td>1485.0</td>\n",
       "      <td>121.0</td>\n",
       "      <td>16.37</td>\n",
       "    </tr>\n",
       "  </tbody>\n",
       "</table>\n",
       "</div>\n",
       "    <div class=\"colab-df-buttons\">\n",
       "\n",
       "  <div class=\"colab-df-container\">\n",
       "    <button class=\"colab-df-convert\" onclick=\"convertToInteractive('df-960ce751-0cdc-4e32-82e7-4819b1c8302c')\"\n",
       "            title=\"Convert this dataframe to an interactive table.\"\n",
       "            style=\"display:none;\">\n",
       "\n",
       "  <svg xmlns=\"http://www.w3.org/2000/svg\" height=\"24px\" viewBox=\"0 -960 960 960\">\n",
       "    <path d=\"M120-120v-720h720v720H120Zm60-500h600v-160H180v160Zm220 220h160v-160H400v160Zm0 220h160v-160H400v160ZM180-400h160v-160H180v160Zm440 0h160v-160H620v160ZM180-180h160v-160H180v160Zm440 0h160v-160H620v160Z\"/>\n",
       "  </svg>\n",
       "    </button>\n",
       "\n",
       "  <style>\n",
       "    .colab-df-container {\n",
       "      display:flex;\n",
       "      gap: 12px;\n",
       "    }\n",
       "\n",
       "    .colab-df-convert {\n",
       "      background-color: #E8F0FE;\n",
       "      border: none;\n",
       "      border-radius: 50%;\n",
       "      cursor: pointer;\n",
       "      display: none;\n",
       "      fill: #1967D2;\n",
       "      height: 32px;\n",
       "      padding: 0 0 0 0;\n",
       "      width: 32px;\n",
       "    }\n",
       "\n",
       "    .colab-df-convert:hover {\n",
       "      background-color: #E2EBFA;\n",
       "      box-shadow: 0px 1px 2px rgba(60, 64, 67, 0.3), 0px 1px 3px 1px rgba(60, 64, 67, 0.15);\n",
       "      fill: #174EA6;\n",
       "    }\n",
       "\n",
       "    .colab-df-buttons div {\n",
       "      margin-bottom: 4px;\n",
       "    }\n",
       "\n",
       "    [theme=dark] .colab-df-convert {\n",
       "      background-color: #3B4455;\n",
       "      fill: #D2E3FC;\n",
       "    }\n",
       "\n",
       "    [theme=dark] .colab-df-convert:hover {\n",
       "      background-color: #434B5C;\n",
       "      box-shadow: 0px 1px 3px 1px rgba(0, 0, 0, 0.15);\n",
       "      filter: drop-shadow(0px 1px 2px rgba(0, 0, 0, 0.3));\n",
       "      fill: #FFFFFF;\n",
       "    }\n",
       "  </style>\n",
       "\n",
       "    <script>\n",
       "      const buttonEl =\n",
       "        document.querySelector('#df-960ce751-0cdc-4e32-82e7-4819b1c8302c button.colab-df-convert');\n",
       "      buttonEl.style.display =\n",
       "        google.colab.kernel.accessAllowed ? 'block' : 'none';\n",
       "\n",
       "      async function convertToInteractive(key) {\n",
       "        const element = document.querySelector('#df-960ce751-0cdc-4e32-82e7-4819b1c8302c');\n",
       "        const dataTable =\n",
       "          await google.colab.kernel.invokeFunction('convertToInteractive',\n",
       "                                                    [key], {});\n",
       "        if (!dataTable) return;\n",
       "\n",
       "        const docLinkHtml = 'Like what you see? Visit the ' +\n",
       "          '<a target=\"_blank\" href=https://colab.research.google.com/notebooks/data_table.ipynb>data table notebook</a>'\n",
       "          + ' to learn more about interactive tables.';\n",
       "        element.innerHTML = '';\n",
       "        dataTable['output_type'] = 'display_data';\n",
       "        await google.colab.output.renderOutput(dataTable, element);\n",
       "        const docLink = document.createElement('div');\n",
       "        docLink.innerHTML = docLinkHtml;\n",
       "        element.appendChild(docLink);\n",
       "      }\n",
       "    </script>\n",
       "  </div>\n",
       "\n",
       "\n",
       "<div id=\"df-7463937c-f62d-422b-bbe0-6a54fe057d5b\">\n",
       "  <button class=\"colab-df-quickchart\" onclick=\"quickchart('df-7463937c-f62d-422b-bbe0-6a54fe057d5b')\"\n",
       "            title=\"Suggest charts\"\n",
       "            style=\"display:none;\">\n",
       "\n",
       "<svg xmlns=\"http://www.w3.org/2000/svg\" height=\"24px\"viewBox=\"0 0 24 24\"\n",
       "     width=\"24px\">\n",
       "    <g>\n",
       "        <path d=\"M19 3H5c-1.1 0-2 .9-2 2v14c0 1.1.9 2 2 2h14c1.1 0 2-.9 2-2V5c0-1.1-.9-2-2-2zM9 17H7v-7h2v7zm4 0h-2V7h2v10zm4 0h-2v-4h2v4z\"/>\n",
       "    </g>\n",
       "</svg>\n",
       "  </button>\n",
       "\n",
       "<style>\n",
       "  .colab-df-quickchart {\n",
       "      --bg-color: #E8F0FE;\n",
       "      --fill-color: #1967D2;\n",
       "      --hover-bg-color: #E2EBFA;\n",
       "      --hover-fill-color: #174EA6;\n",
       "      --disabled-fill-color: #AAA;\n",
       "      --disabled-bg-color: #DDD;\n",
       "  }\n",
       "\n",
       "  [theme=dark] .colab-df-quickchart {\n",
       "      --bg-color: #3B4455;\n",
       "      --fill-color: #D2E3FC;\n",
       "      --hover-bg-color: #434B5C;\n",
       "      --hover-fill-color: #FFFFFF;\n",
       "      --disabled-bg-color: #3B4455;\n",
       "      --disabled-fill-color: #666;\n",
       "  }\n",
       "\n",
       "  .colab-df-quickchart {\n",
       "    background-color: var(--bg-color);\n",
       "    border: none;\n",
       "    border-radius: 50%;\n",
       "    cursor: pointer;\n",
       "    display: none;\n",
       "    fill: var(--fill-color);\n",
       "    height: 32px;\n",
       "    padding: 0;\n",
       "    width: 32px;\n",
       "  }\n",
       "\n",
       "  .colab-df-quickchart:hover {\n",
       "    background-color: var(--hover-bg-color);\n",
       "    box-shadow: 0 1px 2px rgba(60, 64, 67, 0.3), 0 1px 3px 1px rgba(60, 64, 67, 0.15);\n",
       "    fill: var(--button-hover-fill-color);\n",
       "  }\n",
       "\n",
       "  .colab-df-quickchart-complete:disabled,\n",
       "  .colab-df-quickchart-complete:disabled:hover {\n",
       "    background-color: var(--disabled-bg-color);\n",
       "    fill: var(--disabled-fill-color);\n",
       "    box-shadow: none;\n",
       "  }\n",
       "\n",
       "  .colab-df-spinner {\n",
       "    border: 2px solid var(--fill-color);\n",
       "    border-color: transparent;\n",
       "    border-bottom-color: var(--fill-color);\n",
       "    animation:\n",
       "      spin 1s steps(1) infinite;\n",
       "  }\n",
       "\n",
       "  @keyframes spin {\n",
       "    0% {\n",
       "      border-color: transparent;\n",
       "      border-bottom-color: var(--fill-color);\n",
       "      border-left-color: var(--fill-color);\n",
       "    }\n",
       "    20% {\n",
       "      border-color: transparent;\n",
       "      border-left-color: var(--fill-color);\n",
       "      border-top-color: var(--fill-color);\n",
       "    }\n",
       "    30% {\n",
       "      border-color: transparent;\n",
       "      border-left-color: var(--fill-color);\n",
       "      border-top-color: var(--fill-color);\n",
       "      border-right-color: var(--fill-color);\n",
       "    }\n",
       "    40% {\n",
       "      border-color: transparent;\n",
       "      border-right-color: var(--fill-color);\n",
       "      border-top-color: var(--fill-color);\n",
       "    }\n",
       "    60% {\n",
       "      border-color: transparent;\n",
       "      border-right-color: var(--fill-color);\n",
       "    }\n",
       "    80% {\n",
       "      border-color: transparent;\n",
       "      border-right-color: var(--fill-color);\n",
       "      border-bottom-color: var(--fill-color);\n",
       "    }\n",
       "    90% {\n",
       "      border-color: transparent;\n",
       "      border-bottom-color: var(--fill-color);\n",
       "    }\n",
       "  }\n",
       "</style>\n",
       "\n",
       "  <script>\n",
       "    async function quickchart(key) {\n",
       "      const quickchartButtonEl =\n",
       "        document.querySelector('#' + key + ' button');\n",
       "      quickchartButtonEl.disabled = true;  // To prevent multiple clicks.\n",
       "      quickchartButtonEl.classList.add('colab-df-spinner');\n",
       "      try {\n",
       "        const charts = await google.colab.kernel.invokeFunction(\n",
       "            'suggestCharts', [key], {});\n",
       "      } catch (error) {\n",
       "        console.error('Error during call to suggestCharts:', error);\n",
       "      }\n",
       "      quickchartButtonEl.classList.remove('colab-df-spinner');\n",
       "      quickchartButtonEl.classList.add('colab-df-quickchart-complete');\n",
       "    }\n",
       "    (() => {\n",
       "      let quickchartButtonEl =\n",
       "        document.querySelector('#df-7463937c-f62d-422b-bbe0-6a54fe057d5b button');\n",
       "      quickchartButtonEl.style.display =\n",
       "        google.colab.kernel.accessAllowed ? 'block' : 'none';\n",
       "    })();\n",
       "  </script>\n",
       "</div>\n",
       "    </div>\n",
       "  </div>\n"
      ],
      "text/plain": [
       "   Unnamed: 0     Area         Item  Year  hg/ha_yield  \\\n",
       "0           0  Albania        Maize  1990        36613   \n",
       "1           1  Albania     Potatoes  1990        66667   \n",
       "2           2  Albania  Rice, paddy  1990        23333   \n",
       "3           3  Albania      Sorghum  1990        12500   \n",
       "4           4  Albania     Soybeans  1990         7000   \n",
       "\n",
       "   average_rain_fall_mm_per_year  pesticides_tonnes  avg_temp  \n",
       "0                         1485.0              121.0     16.37  \n",
       "1                         1485.0              121.0     16.37  \n",
       "2                         1485.0              121.0     16.37  \n",
       "3                         1485.0              121.0     16.37  \n",
       "4                         1485.0              121.0     16.37  "
      ]
     },
     "execution_count": 8,
     "metadata": {},
     "output_type": "execute_result"
    }
   ],
   "source": [
    "df.head()"
   ]
  },
  {
   "cell_type": "markdown",
   "id": "6b13fdf8-dd2f-4713-9ebc-023bdba218be",
   "metadata": {},
   "source": [
    "## 2. Preprocessing Data"
   ]
  },
  {
   "cell_type": "markdown",
   "id": "012449df-3656-455b-b594-90d1bc908c15",
   "metadata": {},
   "source": [
    "### 2.1 Removing Duplicate and Unamed Data"
   ]
  },
  {
   "cell_type": "code",
   "execution_count": 9,
   "id": "31350f07-3fd6-4c21-bda5-d491d2439391",
   "metadata": {
    "colab": {
     "base_uri": "https://localhost:8080/"
    },
    "executionInfo": {
     "elapsed": 334,
     "status": "ok",
     "timestamp": 1702554262344,
     "user": {
      "displayName": "Alfian Bima Prastyo",
      "userId": "13770701840816320137"
     },
     "user_tz": -420
    },
    "id": "31350f07-3fd6-4c21-bda5-d491d2439391",
    "outputId": "ae0bb8e7-6baf-475d-a1d0-0c66b16bd75e"
   },
   "outputs": [
    {
     "data": {
      "text/plain": [
       "0"
      ]
     },
     "execution_count": 9,
     "metadata": {},
     "output_type": "execute_result"
    }
   ],
   "source": [
    "df.duplicated().sum()"
   ]
  },
  {
   "cell_type": "code",
   "execution_count": 10,
   "id": "fcf41a11-ebca-4e07-a734-7b2c50400422",
   "metadata": {
    "executionInfo": {
     "elapsed": 2,
     "status": "ok",
     "timestamp": 1702554265083,
     "user": {
      "displayName": "Alfian Bima Prastyo",
      "userId": "13770701840816320137"
     },
     "user_tz": -420
    },
    "id": "fcf41a11-ebca-4e07-a734-7b2c50400422"
   },
   "outputs": [],
   "source": [
    "df.drop('Unnamed: 0' , axis=1, inplace=True)"
   ]
  },
  {
   "cell_type": "code",
   "execution_count": 11,
   "id": "5cb5b7b8-4680-46a7-b4f0-c893406bd893",
   "metadata": {
    "colab": {
     "base_uri": "https://localhost:8080/"
    },
    "executionInfo": {
     "elapsed": 298,
     "status": "ok",
     "timestamp": 1702554267762,
     "user": {
      "displayName": "Alfian Bima Prastyo",
      "userId": "13770701840816320137"
     },
     "user_tz": -420
    },
    "id": "5cb5b7b8-4680-46a7-b4f0-c893406bd893",
    "outputId": "fcffd9e5-8d9a-4829-ccd0-83f0a2f0d0c2"
   },
   "outputs": [
    {
     "name": "stdout",
     "output_type": "stream",
     "text": [
      "<class 'pandas.core.frame.DataFrame'>\n",
      "RangeIndex: 28242 entries, 0 to 28241\n",
      "Data columns (total 7 columns):\n",
      " #   Column                         Non-Null Count  Dtype  \n",
      "---  ------                         --------------  -----  \n",
      " 0   Area                           28242 non-null  object \n",
      " 1   Item                           28242 non-null  object \n",
      " 2   Year                           28242 non-null  int64  \n",
      " 3   hg/ha_yield                    28242 non-null  int64  \n",
      " 4   average_rain_fall_mm_per_year  28242 non-null  float64\n",
      " 5   pesticides_tonnes              28242 non-null  float64\n",
      " 6   avg_temp                       28242 non-null  float64\n",
      "dtypes: float64(3), int64(2), object(2)\n",
      "memory usage: 1.5+ MB\n"
     ]
    }
   ],
   "source": [
    "df.info()"
   ]
  },
  {
   "cell_type": "code",
   "execution_count": 12,
   "id": "82adfda7-8cfc-4797-9595-9a3c8dd5f80e",
   "metadata": {
    "colab": {
     "base_uri": "https://localhost:8080/"
    },
    "executionInfo": {
     "elapsed": 4,
     "status": "ok",
     "timestamp": 1702554270570,
     "user": {
      "displayName": "Alfian Bima Prastyo",
      "userId": "13770701840816320137"
     },
     "user_tz": -420
    },
    "id": "82adfda7-8cfc-4797-9595-9a3c8dd5f80e",
    "outputId": "47784bd8-aa04-49b7-f9e6-8ae6cbb911db"
   },
   "outputs": [
    {
     "data": {
      "text/plain": [
       "2310"
      ]
     },
     "execution_count": 12,
     "metadata": {},
     "output_type": "execute_result"
    }
   ],
   "source": [
    "df.duplicated().sum()"
   ]
  },
  {
   "cell_type": "code",
   "execution_count": 13,
   "id": "be7ce261-b9ab-42ee-94b2-670fc805740e",
   "metadata": {
    "executionInfo": {
     "elapsed": 550,
     "status": "ok",
     "timestamp": 1702554273819,
     "user": {
      "displayName": "Alfian Bima Prastyo",
      "userId": "13770701840816320137"
     },
     "user_tz": -420
    },
    "id": "be7ce261-b9ab-42ee-94b2-670fc805740e"
   },
   "outputs": [],
   "source": [
    "df.drop_duplicates(inplace=True)"
   ]
  },
  {
   "cell_type": "code",
   "execution_count": null,
   "id": "40b8a297-c3db-4cd4-ab11-d04175695466",
   "metadata": {
    "id": "40b8a297-c3db-4cd4-ab11-d04175695466"
   },
   "outputs": [],
   "source": [
    "def isStr(obj):\n",
    "    try:\n",
    "        float(obj)\n",
    "        return False\n",
    "    except:\n",
    "        return True\n",
    "to_drop = df[df['average_rain_fall_mm_per_year'].apply(isStr)].index"
   ]
  },
  {
   "cell_type": "code",
   "execution_count": 14,
   "id": "3c98b9c0-4637-4e99-9f2b-542cba1ae10f",
   "metadata": {
    "executionInfo": {
     "elapsed": 3,
     "status": "ok",
     "timestamp": 1702554277347,
     "user": {
      "displayName": "Alfian Bima Prastyo",
      "userId": "13770701840816320137"
     },
     "user_tz": -420
    },
    "id": "3c98b9c0-4637-4e99-9f2b-542cba1ae10f"
   },
   "outputs": [],
   "source": [
    "df['average_rain_fall_mm_per_year'] = df['average_rain_fall_mm_per_year'].astype(np.float64)"
   ]
  },
  {
   "cell_type": "code",
   "execution_count": 15,
   "id": "930c648f-7528-4ecd-a173-993fd423c674",
   "metadata": {
    "colab": {
     "base_uri": "https://localhost:8080/"
    },
    "executionInfo": {
     "elapsed": 3,
     "status": "ok",
     "timestamp": 1702554280135,
     "user": {
      "displayName": "Alfian Bima Prastyo",
      "userId": "13770701840816320137"
     },
     "user_tz": -420
    },
    "id": "930c648f-7528-4ecd-a173-993fd423c674",
    "outputId": "76f494f9-2d36-451b-f382-ab71909051e8"
   },
   "outputs": [
    {
     "name": "stdout",
     "output_type": "stream",
     "text": [
      "<class 'pandas.core.frame.DataFrame'>\n",
      "Int64Index: 25932 entries, 0 to 28241\n",
      "Data columns (total 7 columns):\n",
      " #   Column                         Non-Null Count  Dtype  \n",
      "---  ------                         --------------  -----  \n",
      " 0   Area                           25932 non-null  object \n",
      " 1   Item                           25932 non-null  object \n",
      " 2   Year                           25932 non-null  int64  \n",
      " 3   hg/ha_yield                    25932 non-null  int64  \n",
      " 4   average_rain_fall_mm_per_year  25932 non-null  float64\n",
      " 5   pesticides_tonnes              25932 non-null  float64\n",
      " 6   avg_temp                       25932 non-null  float64\n",
      "dtypes: float64(3), int64(2), object(2)\n",
      "memory usage: 1.6+ MB\n"
     ]
    }
   ],
   "source": [
    "df.info()"
   ]
  },
  {
   "cell_type": "code",
   "execution_count": 16,
   "id": "45bfdbc8-efd7-44b1-b4ca-333b0c0327ec",
   "metadata": {
    "colab": {
     "base_uri": "https://localhost:8080/"
    },
    "executionInfo": {
     "elapsed": 2,
     "status": "ok",
     "timestamp": 1702554282719,
     "user": {
      "displayName": "Alfian Bima Prastyo",
      "userId": "13770701840816320137"
     },
     "user_tz": -420
    },
    "id": "45bfdbc8-efd7-44b1-b4ca-333b0c0327ec",
    "outputId": "d8f59973-94dc-48af-a1da-eea7cd6219ac"
   },
   "outputs": [
    {
     "data": {
      "text/plain": [
       "101"
      ]
     },
     "execution_count": 16,
     "metadata": {},
     "output_type": "execute_result"
    }
   ],
   "source": [
    "len(df['Area'].unique())"
   ]
  },
  {
   "cell_type": "markdown",
   "id": "8dc856d7-b23a-42dc-8168-cef22e062e67",
   "metadata": {},
   "source": [
    "### 2.2 Split Data"
   ]
  },
  {
   "cell_type": "code",
   "execution_count": 17,
   "id": "67b036a2-bdbd-4ccf-986b-5f55784d8624",
   "metadata": {
    "executionInfo": {
     "elapsed": 3,
     "status": "ok",
     "timestamp": 1702554285372,
     "user": {
      "displayName": "Alfian Bima Prastyo",
      "userId": "13770701840816320137"
     },
     "user_tz": -420
    },
    "id": "67b036a2-bdbd-4ccf-986b-5f55784d8624"
   },
   "outputs": [],
   "source": [
    "col = ['Year', 'average_rain_fall_mm_per_year','pesticides_tonnes', 'avg_temp', 'Area', 'Item', 'hg/ha_yield']\n",
    "df = df[col]\n",
    "X = df.iloc[:, :-1]\n",
    "y = df.iloc[:, -1]"
   ]
  },
  {
   "cell_type": "code",
   "execution_count": 18,
   "id": "2ab82b02-acda-4df3-9dc0-4f2e6dd7a1f4",
   "metadata": {
    "colab": {
     "base_uri": "https://localhost:8080/",
     "height": 206
    },
    "executionInfo": {
     "elapsed": 314,
     "status": "ok",
     "timestamp": 1702554287033,
     "user": {
      "displayName": "Alfian Bima Prastyo",
      "userId": "13770701840816320137"
     },
     "user_tz": -420
    },
    "id": "2ab82b02-acda-4df3-9dc0-4f2e6dd7a1f4",
    "outputId": "89b0ed1b-795d-45ae-ed5a-4d1740c6ed27"
   },
   "outputs": [
    {
     "data": {
      "text/html": [
       "\n",
       "  <div id=\"df-07bddff6-7d80-443b-a64b-ecffccee2d43\" class=\"colab-df-container\">\n",
       "    <div>\n",
       "<style scoped>\n",
       "    .dataframe tbody tr th:only-of-type {\n",
       "        vertical-align: middle;\n",
       "    }\n",
       "\n",
       "    .dataframe tbody tr th {\n",
       "        vertical-align: top;\n",
       "    }\n",
       "\n",
       "    .dataframe thead th {\n",
       "        text-align: right;\n",
       "    }\n",
       "</style>\n",
       "<table border=\"1\" class=\"dataframe\">\n",
       "  <thead>\n",
       "    <tr style=\"text-align: right;\">\n",
       "      <th></th>\n",
       "      <th>Year</th>\n",
       "      <th>average_rain_fall_mm_per_year</th>\n",
       "      <th>pesticides_tonnes</th>\n",
       "      <th>avg_temp</th>\n",
       "      <th>Area</th>\n",
       "      <th>Item</th>\n",
       "      <th>hg/ha_yield</th>\n",
       "    </tr>\n",
       "  </thead>\n",
       "  <tbody>\n",
       "    <tr>\n",
       "      <th>0</th>\n",
       "      <td>1990</td>\n",
       "      <td>1485.0</td>\n",
       "      <td>121.0</td>\n",
       "      <td>16.37</td>\n",
       "      <td>Albania</td>\n",
       "      <td>Maize</td>\n",
       "      <td>36613</td>\n",
       "    </tr>\n",
       "    <tr>\n",
       "      <th>1</th>\n",
       "      <td>1990</td>\n",
       "      <td>1485.0</td>\n",
       "      <td>121.0</td>\n",
       "      <td>16.37</td>\n",
       "      <td>Albania</td>\n",
       "      <td>Potatoes</td>\n",
       "      <td>66667</td>\n",
       "    </tr>\n",
       "    <tr>\n",
       "      <th>2</th>\n",
       "      <td>1990</td>\n",
       "      <td>1485.0</td>\n",
       "      <td>121.0</td>\n",
       "      <td>16.37</td>\n",
       "      <td>Albania</td>\n",
       "      <td>Rice, paddy</td>\n",
       "      <td>23333</td>\n",
       "    </tr>\n",
       "    <tr>\n",
       "      <th>3</th>\n",
       "      <td>1990</td>\n",
       "      <td>1485.0</td>\n",
       "      <td>121.0</td>\n",
       "      <td>16.37</td>\n",
       "      <td>Albania</td>\n",
       "      <td>Sorghum</td>\n",
       "      <td>12500</td>\n",
       "    </tr>\n",
       "    <tr>\n",
       "      <th>4</th>\n",
       "      <td>1990</td>\n",
       "      <td>1485.0</td>\n",
       "      <td>121.0</td>\n",
       "      <td>16.37</td>\n",
       "      <td>Albania</td>\n",
       "      <td>Soybeans</td>\n",
       "      <td>7000</td>\n",
       "    </tr>\n",
       "  </tbody>\n",
       "</table>\n",
       "</div>\n",
       "    <div class=\"colab-df-buttons\">\n",
       "\n",
       "  <div class=\"colab-df-container\">\n",
       "    <button class=\"colab-df-convert\" onclick=\"convertToInteractive('df-07bddff6-7d80-443b-a64b-ecffccee2d43')\"\n",
       "            title=\"Convert this dataframe to an interactive table.\"\n",
       "            style=\"display:none;\">\n",
       "\n",
       "  <svg xmlns=\"http://www.w3.org/2000/svg\" height=\"24px\" viewBox=\"0 -960 960 960\">\n",
       "    <path d=\"M120-120v-720h720v720H120Zm60-500h600v-160H180v160Zm220 220h160v-160H400v160Zm0 220h160v-160H400v160ZM180-400h160v-160H180v160Zm440 0h160v-160H620v160ZM180-180h160v-160H180v160Zm440 0h160v-160H620v160Z\"/>\n",
       "  </svg>\n",
       "    </button>\n",
       "\n",
       "  <style>\n",
       "    .colab-df-container {\n",
       "      display:flex;\n",
       "      gap: 12px;\n",
       "    }\n",
       "\n",
       "    .colab-df-convert {\n",
       "      background-color: #E8F0FE;\n",
       "      border: none;\n",
       "      border-radius: 50%;\n",
       "      cursor: pointer;\n",
       "      display: none;\n",
       "      fill: #1967D2;\n",
       "      height: 32px;\n",
       "      padding: 0 0 0 0;\n",
       "      width: 32px;\n",
       "    }\n",
       "\n",
       "    .colab-df-convert:hover {\n",
       "      background-color: #E2EBFA;\n",
       "      box-shadow: 0px 1px 2px rgba(60, 64, 67, 0.3), 0px 1px 3px 1px rgba(60, 64, 67, 0.15);\n",
       "      fill: #174EA6;\n",
       "    }\n",
       "\n",
       "    .colab-df-buttons div {\n",
       "      margin-bottom: 4px;\n",
       "    }\n",
       "\n",
       "    [theme=dark] .colab-df-convert {\n",
       "      background-color: #3B4455;\n",
       "      fill: #D2E3FC;\n",
       "    }\n",
       "\n",
       "    [theme=dark] .colab-df-convert:hover {\n",
       "      background-color: #434B5C;\n",
       "      box-shadow: 0px 1px 3px 1px rgba(0, 0, 0, 0.15);\n",
       "      filter: drop-shadow(0px 1px 2px rgba(0, 0, 0, 0.3));\n",
       "      fill: #FFFFFF;\n",
       "    }\n",
       "  </style>\n",
       "\n",
       "    <script>\n",
       "      const buttonEl =\n",
       "        document.querySelector('#df-07bddff6-7d80-443b-a64b-ecffccee2d43 button.colab-df-convert');\n",
       "      buttonEl.style.display =\n",
       "        google.colab.kernel.accessAllowed ? 'block' : 'none';\n",
       "\n",
       "      async function convertToInteractive(key) {\n",
       "        const element = document.querySelector('#df-07bddff6-7d80-443b-a64b-ecffccee2d43');\n",
       "        const dataTable =\n",
       "          await google.colab.kernel.invokeFunction('convertToInteractive',\n",
       "                                                    [key], {});\n",
       "        if (!dataTable) return;\n",
       "\n",
       "        const docLinkHtml = 'Like what you see? Visit the ' +\n",
       "          '<a target=\"_blank\" href=https://colab.research.google.com/notebooks/data_table.ipynb>data table notebook</a>'\n",
       "          + ' to learn more about interactive tables.';\n",
       "        element.innerHTML = '';\n",
       "        dataTable['output_type'] = 'display_data';\n",
       "        await google.colab.output.renderOutput(dataTable, element);\n",
       "        const docLink = document.createElement('div');\n",
       "        docLink.innerHTML = docLinkHtml;\n",
       "        element.appendChild(docLink);\n",
       "      }\n",
       "    </script>\n",
       "  </div>\n",
       "\n",
       "\n",
       "<div id=\"df-6bfc0d4a-bf93-4747-9660-591ae8cdd2b9\">\n",
       "  <button class=\"colab-df-quickchart\" onclick=\"quickchart('df-6bfc0d4a-bf93-4747-9660-591ae8cdd2b9')\"\n",
       "            title=\"Suggest charts\"\n",
       "            style=\"display:none;\">\n",
       "\n",
       "<svg xmlns=\"http://www.w3.org/2000/svg\" height=\"24px\"viewBox=\"0 0 24 24\"\n",
       "     width=\"24px\">\n",
       "    <g>\n",
       "        <path d=\"M19 3H5c-1.1 0-2 .9-2 2v14c0 1.1.9 2 2 2h14c1.1 0 2-.9 2-2V5c0-1.1-.9-2-2-2zM9 17H7v-7h2v7zm4 0h-2V7h2v10zm4 0h-2v-4h2v4z\"/>\n",
       "    </g>\n",
       "</svg>\n",
       "  </button>\n",
       "\n",
       "<style>\n",
       "  .colab-df-quickchart {\n",
       "      --bg-color: #E8F0FE;\n",
       "      --fill-color: #1967D2;\n",
       "      --hover-bg-color: #E2EBFA;\n",
       "      --hover-fill-color: #174EA6;\n",
       "      --disabled-fill-color: #AAA;\n",
       "      --disabled-bg-color: #DDD;\n",
       "  }\n",
       "\n",
       "  [theme=dark] .colab-df-quickchart {\n",
       "      --bg-color: #3B4455;\n",
       "      --fill-color: #D2E3FC;\n",
       "      --hover-bg-color: #434B5C;\n",
       "      --hover-fill-color: #FFFFFF;\n",
       "      --disabled-bg-color: #3B4455;\n",
       "      --disabled-fill-color: #666;\n",
       "  }\n",
       "\n",
       "  .colab-df-quickchart {\n",
       "    background-color: var(--bg-color);\n",
       "    border: none;\n",
       "    border-radius: 50%;\n",
       "    cursor: pointer;\n",
       "    display: none;\n",
       "    fill: var(--fill-color);\n",
       "    height: 32px;\n",
       "    padding: 0;\n",
       "    width: 32px;\n",
       "  }\n",
       "\n",
       "  .colab-df-quickchart:hover {\n",
       "    background-color: var(--hover-bg-color);\n",
       "    box-shadow: 0 1px 2px rgba(60, 64, 67, 0.3), 0 1px 3px 1px rgba(60, 64, 67, 0.15);\n",
       "    fill: var(--button-hover-fill-color);\n",
       "  }\n",
       "\n",
       "  .colab-df-quickchart-complete:disabled,\n",
       "  .colab-df-quickchart-complete:disabled:hover {\n",
       "    background-color: var(--disabled-bg-color);\n",
       "    fill: var(--disabled-fill-color);\n",
       "    box-shadow: none;\n",
       "  }\n",
       "\n",
       "  .colab-df-spinner {\n",
       "    border: 2px solid var(--fill-color);\n",
       "    border-color: transparent;\n",
       "    border-bottom-color: var(--fill-color);\n",
       "    animation:\n",
       "      spin 1s steps(1) infinite;\n",
       "  }\n",
       "\n",
       "  @keyframes spin {\n",
       "    0% {\n",
       "      border-color: transparent;\n",
       "      border-bottom-color: var(--fill-color);\n",
       "      border-left-color: var(--fill-color);\n",
       "    }\n",
       "    20% {\n",
       "      border-color: transparent;\n",
       "      border-left-color: var(--fill-color);\n",
       "      border-top-color: var(--fill-color);\n",
       "    }\n",
       "    30% {\n",
       "      border-color: transparent;\n",
       "      border-left-color: var(--fill-color);\n",
       "      border-top-color: var(--fill-color);\n",
       "      border-right-color: var(--fill-color);\n",
       "    }\n",
       "    40% {\n",
       "      border-color: transparent;\n",
       "      border-right-color: var(--fill-color);\n",
       "      border-top-color: var(--fill-color);\n",
       "    }\n",
       "    60% {\n",
       "      border-color: transparent;\n",
       "      border-right-color: var(--fill-color);\n",
       "    }\n",
       "    80% {\n",
       "      border-color: transparent;\n",
       "      border-right-color: var(--fill-color);\n",
       "      border-bottom-color: var(--fill-color);\n",
       "    }\n",
       "    90% {\n",
       "      border-color: transparent;\n",
       "      border-bottom-color: var(--fill-color);\n",
       "    }\n",
       "  }\n",
       "</style>\n",
       "\n",
       "  <script>\n",
       "    async function quickchart(key) {\n",
       "      const quickchartButtonEl =\n",
       "        document.querySelector('#' + key + ' button');\n",
       "      quickchartButtonEl.disabled = true;  // To prevent multiple clicks.\n",
       "      quickchartButtonEl.classList.add('colab-df-spinner');\n",
       "      try {\n",
       "        const charts = await google.colab.kernel.invokeFunction(\n",
       "            'suggestCharts', [key], {});\n",
       "      } catch (error) {\n",
       "        console.error('Error during call to suggestCharts:', error);\n",
       "      }\n",
       "      quickchartButtonEl.classList.remove('colab-df-spinner');\n",
       "      quickchartButtonEl.classList.add('colab-df-quickchart-complete');\n",
       "    }\n",
       "    (() => {\n",
       "      let quickchartButtonEl =\n",
       "        document.querySelector('#df-6bfc0d4a-bf93-4747-9660-591ae8cdd2b9 button');\n",
       "      quickchartButtonEl.style.display =\n",
       "        google.colab.kernel.accessAllowed ? 'block' : 'none';\n",
       "    })();\n",
       "  </script>\n",
       "</div>\n",
       "    </div>\n",
       "  </div>\n"
      ],
      "text/plain": [
       "   Year  average_rain_fall_mm_per_year  pesticides_tonnes  avg_temp     Area  \\\n",
       "0  1990                         1485.0              121.0     16.37  Albania   \n",
       "1  1990                         1485.0              121.0     16.37  Albania   \n",
       "2  1990                         1485.0              121.0     16.37  Albania   \n",
       "3  1990                         1485.0              121.0     16.37  Albania   \n",
       "4  1990                         1485.0              121.0     16.37  Albania   \n",
       "\n",
       "          Item  hg/ha_yield  \n",
       "0        Maize        36613  \n",
       "1     Potatoes        66667  \n",
       "2  Rice, paddy        23333  \n",
       "3      Sorghum        12500  \n",
       "4     Soybeans         7000  "
      ]
     },
     "execution_count": 18,
     "metadata": {},
     "output_type": "execute_result"
    }
   ],
   "source": [
    "df.head()"
   ]
  },
  {
   "cell_type": "code",
   "execution_count": 19,
   "id": "22f03bb2-02a7-46a0-a3e0-7baa17340c4b",
   "metadata": {
    "executionInfo": {
     "elapsed": 1557,
     "status": "ok",
     "timestamp": 1702554292393,
     "user": {
      "displayName": "Alfian Bima Prastyo",
      "userId": "13770701840816320137"
     },
     "user_tz": -420
    },
    "id": "22f03bb2-02a7-46a0-a3e0-7baa17340c4b"
   },
   "outputs": [],
   "source": [
    "from sklearn.model_selection import train_test_split\n",
    "X_train, X_test, y_train, y_test = train_test_split(X, y, train_size=0.8, random_state=0, shuffle=True)"
   ]
  },
  {
   "cell_type": "markdown",
   "id": "54db566b-fa9f-47da-a334-70924c79d0ba",
   "metadata": {},
   "source": [
    "### 2.3 Encode Data"
   ]
  },
  {
   "cell_type": "code",
   "execution_count": 20,
   "id": "8d9be78e-f7c8-4350-ad1b-b033e8320337",
   "metadata": {
    "executionInfo": {
     "elapsed": 414,
     "status": "ok",
     "timestamp": 1702554295944,
     "user": {
      "displayName": "Alfian Bima Prastyo",
      "userId": "13770701840816320137"
     },
     "user_tz": -420
    },
    "id": "8d9be78e-f7c8-4350-ad1b-b033e8320337"
   },
   "outputs": [],
   "source": [
    "from sklearn.preprocessing import StandardScaler\n",
    "from sklearn.preprocessing import OneHotEncoder\n",
    "from sklearn.compose import ColumnTransformer\n",
    "\n",
    "ohe = OneHotEncoder(drop='first')\n",
    "scale = StandardScaler()\n",
    "\n",
    "preprocesser = ColumnTransformer(\n",
    "        transformers = [\n",
    "            ('StandardScale', scale, [0, 1, 2, 3]),\n",
    "            ('OHE', ohe, [4, 5]),\n",
    "        ],\n",
    "        remainder='passthrough'\n",
    ")"
   ]
  },
  {
   "cell_type": "code",
   "execution_count": 21,
   "id": "1a118915-3ba9-4f84-b976-540d03a1a525",
   "metadata": {
    "executionInfo": {
     "elapsed": 302,
     "status": "ok",
     "timestamp": 1702554300847,
     "user": {
      "displayName": "Alfian Bima Prastyo",
      "userId": "13770701840816320137"
     },
     "user_tz": -420
    },
    "id": "1a118915-3ba9-4f84-b976-540d03a1a525"
   },
   "outputs": [],
   "source": [
    "X_train = preprocesser.fit_transform(X_train)\n",
    "X_test = preprocesser.transform(X_test)"
   ]
  },
  {
   "cell_type": "code",
   "execution_count": 22,
   "id": "54573dfd-8455-44a3-8ab1-9c0d05598faa",
   "metadata": {
    "executionInfo": {
     "elapsed": 505,
     "status": "ok",
     "timestamp": 1702554302649,
     "user": {
      "displayName": "Alfian Bima Prastyo",
      "userId": "13770701840816320137"
     },
     "user_tz": -420
    },
    "id": "54573dfd-8455-44a3-8ab1-9c0d05598faa"
   },
   "outputs": [],
   "source": [
    "X_train = X_train.toarray()\n",
    "X_test = X_test.toarray()"
   ]
  },
  {
   "cell_type": "markdown",
   "id": "222265e2-53dc-4c09-b0a4-766b62b54b85",
   "metadata": {},
   "source": [
    "## 3. Model"
   ]
  },
  {
   "cell_type": "markdown",
   "id": "108964af-c831-44f4-9486-55ceeaac83bb",
   "metadata": {},
   "source": [
    "### 3.1 Build Model"
   ]
  },
  {
   "cell_type": "code",
   "execution_count": 23,
   "id": "1e8b0782-82f4-4e9d-9f48-6b1ec5cb8950",
   "metadata": {
    "executionInfo": {
     "elapsed": 9281,
     "status": "ok",
     "timestamp": 1702554315348,
     "user": {
      "displayName": "Alfian Bima Prastyo",
      "userId": "13770701840816320137"
     },
     "user_tz": -420
    },
    "id": "1e8b0782-82f4-4e9d-9f48-6b1ec5cb8950"
   },
   "outputs": [],
   "source": [
    "from tensorflow.keras.models import Sequential\n",
    "from tensorflow.keras.layers import Dense, Dropout\n",
    "\n",
    "model = Sequential()\n",
    "model.add(Dense(128, input_dim=X_train.shape[1], activation='relu'))\n",
    "model.add(Dropout(0.5))\n",
    "model.add(Dense(64, activation='relu'))\n",
    "model.add(Dense(1, activation='linear'))"
   ]
  },
  {
   "cell_type": "code",
   "execution_count": 24,
   "id": "e6e04f15-1c86-4d07-b801-aaf0e02d35b0",
   "metadata": {
    "executionInfo": {
     "elapsed": 301,
     "status": "ok",
     "timestamp": 1702554319623,
     "user": {
      "displayName": "Alfian Bima Prastyo",
      "userId": "13770701840816320137"
     },
     "user_tz": -420
    },
    "id": "e6e04f15-1c86-4d07-b801-aaf0e02d35b0"
   },
   "outputs": [],
   "source": [
    "model.compile(optimizer='adam', loss='mean_squared_error')"
   ]
  },
  {
   "cell_type": "markdown",
   "id": "d79d2450-371b-4528-912a-36fff7120c0a",
   "metadata": {},
   "source": [
    "### 3.2 Train Model"
   ]
  },
  {
   "cell_type": "code",
   "execution_count": 51,
   "id": "08819deb-0000-455f-8fc5-8862b7a59902",
   "metadata": {
    "colab": {
     "base_uri": "https://localhost:8080/"
    },
    "collapsed": true,
    "executionInfo": {
     "elapsed": 194293,
     "status": "ok",
     "timestamp": 1702557630868,
     "user": {
      "displayName": "Alfian Bima Prastyo",
      "userId": "13770701840816320137"
     },
     "user_tz": -420
    },
    "id": "08819deb-0000-455f-8fc5-8862b7a59902",
    "jupyter": {
     "outputs_hidden": true
    },
    "outputId": "c410eaba-a2c3-4edc-bc53-b029b7acf085"
   },
   "outputs": [
    {
     "name": "stdout",
     "output_type": "stream",
     "text": [
      "Epoch 1/100\n",
      "649/649 [==============================] - 3s 5ms/step - loss: 314266048.0000 - val_loss: 175539392.0000\n",
      "Epoch 2/100\n",
      "649/649 [==============================] - 2s 3ms/step - loss: 326525056.0000 - val_loss: 177663856.0000\n",
      "Epoch 3/100\n",
      "649/649 [==============================] - 2s 3ms/step - loss: 317964288.0000 - val_loss: 176699136.0000\n",
      "Epoch 4/100\n",
      "649/649 [==============================] - 2s 2ms/step - loss: 315536544.0000 - val_loss: 176713888.0000\n",
      "Epoch 5/100\n",
      "649/649 [==============================] - 2s 2ms/step - loss: 320238048.0000 - val_loss: 179998160.0000\n",
      "Epoch 6/100\n",
      "649/649 [==============================] - 2s 2ms/step - loss: 319402272.0000 - val_loss: 177525024.0000\n",
      "Epoch 7/100\n",
      "649/649 [==============================] - 2s 2ms/step - loss: 321939584.0000 - val_loss: 178427504.0000\n",
      "Epoch 8/100\n",
      "649/649 [==============================] - 2s 3ms/step - loss: 317271136.0000 - val_loss: 181228144.0000\n",
      "Epoch 9/100\n",
      "649/649 [==============================] - 2s 3ms/step - loss: 320548096.0000 - val_loss: 176170112.0000\n",
      "Epoch 10/100\n",
      "649/649 [==============================] - 2s 3ms/step - loss: 319491872.0000 - val_loss: 173976240.0000\n",
      "Epoch 11/100\n",
      "649/649 [==============================] - 2s 3ms/step - loss: 316063488.0000 - val_loss: 175523616.0000\n",
      "Epoch 12/100\n",
      "649/649 [==============================] - 2s 3ms/step - loss: 322364096.0000 - val_loss: 174433856.0000\n",
      "Epoch 13/100\n",
      "649/649 [==============================] - 2s 3ms/step - loss: 316257504.0000 - val_loss: 176527664.0000\n",
      "Epoch 14/100\n",
      "649/649 [==============================] - 2s 3ms/step - loss: 311824384.0000 - val_loss: 180442320.0000\n",
      "Epoch 15/100\n",
      "649/649 [==============================] - 3s 4ms/step - loss: 310242112.0000 - val_loss: 177815872.0000\n",
      "Epoch 16/100\n",
      "649/649 [==============================] - 2s 3ms/step - loss: 313329536.0000 - val_loss: 175170640.0000\n",
      "Epoch 17/100\n",
      "649/649 [==============================] - 2s 2ms/step - loss: 330524384.0000 - val_loss: 178663696.0000\n",
      "Epoch 18/100\n",
      "649/649 [==============================] - 2s 3ms/step - loss: 321336544.0000 - val_loss: 174722032.0000\n",
      "Epoch 19/100\n",
      "649/649 [==============================] - 2s 3ms/step - loss: 311455872.0000 - val_loss: 174615424.0000\n",
      "Epoch 20/100\n",
      "649/649 [==============================] - 2s 2ms/step - loss: 314077184.0000 - val_loss: 176441024.0000\n",
      "Epoch 21/100\n",
      "649/649 [==============================] - 2s 3ms/step - loss: 314824832.0000 - val_loss: 177907568.0000\n",
      "Epoch 22/100\n",
      "649/649 [==============================] - 2s 3ms/step - loss: 320716960.0000 - val_loss: 180410688.0000\n",
      "Epoch 23/100\n",
      "649/649 [==============================] - 3s 4ms/step - loss: 323854880.0000 - val_loss: 177042656.0000\n",
      "Epoch 24/100\n",
      "649/649 [==============================] - 2s 3ms/step - loss: 318938368.0000 - val_loss: 175760816.0000\n",
      "Epoch 25/100\n",
      "649/649 [==============================] - 2s 3ms/step - loss: 321581920.0000 - val_loss: 173506128.0000\n",
      "Epoch 26/100\n",
      "649/649 [==============================] - 2s 3ms/step - loss: 319411680.0000 - val_loss: 176264272.0000\n",
      "Epoch 27/100\n",
      "649/649 [==============================] - 2s 3ms/step - loss: 314770368.0000 - val_loss: 172579392.0000\n",
      "Epoch 28/100\n",
      "649/649 [==============================] - 2s 3ms/step - loss: 313631520.0000 - val_loss: 176662736.0000\n",
      "Epoch 29/100\n",
      "649/649 [==============================] - 2s 3ms/step - loss: 323538592.0000 - val_loss: 185798368.0000\n",
      "Epoch 30/100\n",
      "649/649 [==============================] - 2s 3ms/step - loss: 313285984.0000 - val_loss: 172719664.0000\n",
      "Epoch 31/100\n",
      "649/649 [==============================] - 2s 3ms/step - loss: 314478080.0000 - val_loss: 177509008.0000\n",
      "Epoch 32/100\n",
      "649/649 [==============================] - 2s 3ms/step - loss: 312749440.0000 - val_loss: 176271552.0000\n",
      "Epoch 33/100\n",
      "649/649 [==============================] - 2s 3ms/step - loss: 310383200.0000 - val_loss: 170714816.0000\n",
      "Epoch 34/100\n",
      "649/649 [==============================] - 2s 3ms/step - loss: 313829152.0000 - val_loss: 178101376.0000\n",
      "Epoch 35/100\n",
      "649/649 [==============================] - 2s 3ms/step - loss: 317977184.0000 - val_loss: 170611328.0000\n",
      "Epoch 36/100\n",
      "649/649 [==============================] - 3s 4ms/step - loss: 317174464.0000 - val_loss: 172241824.0000\n",
      "Epoch 37/100\n",
      "649/649 [==============================] - 2s 4ms/step - loss: 310083744.0000 - val_loss: 174477824.0000\n",
      "Epoch 38/100\n",
      "649/649 [==============================] - 2s 3ms/step - loss: 305661888.0000 - val_loss: 174135664.0000\n",
      "Epoch 39/100\n",
      "649/649 [==============================] - 2s 3ms/step - loss: 312418848.0000 - val_loss: 172415936.0000\n",
      "Epoch 40/100\n",
      "649/649 [==============================] - 2s 3ms/step - loss: 316090624.0000 - val_loss: 172184016.0000\n",
      "Epoch 41/100\n",
      "649/649 [==============================] - 2s 3ms/step - loss: 328302080.0000 - val_loss: 172206976.0000\n",
      "Epoch 42/100\n",
      "649/649 [==============================] - 2s 2ms/step - loss: 313884800.0000 - val_loss: 170214384.0000\n",
      "Epoch 43/100\n",
      "649/649 [==============================] - 2s 4ms/step - loss: 316669184.0000 - val_loss: 171273664.0000\n",
      "Epoch 44/100\n",
      "649/649 [==============================] - 2s 4ms/step - loss: 312101760.0000 - val_loss: 171723824.0000\n",
      "Epoch 45/100\n",
      "649/649 [==============================] - 2s 3ms/step - loss: 317964736.0000 - val_loss: 173551552.0000\n",
      "Epoch 46/100\n",
      "649/649 [==============================] - 2s 3ms/step - loss: 315493120.0000 - val_loss: 172775536.0000\n",
      "Epoch 47/100\n",
      "649/649 [==============================] - 2s 3ms/step - loss: 314275296.0000 - val_loss: 172790848.0000\n",
      "Epoch 48/100\n",
      "649/649 [==============================] - 2s 3ms/step - loss: 326514496.0000 - val_loss: 178921968.0000\n",
      "Epoch 49/100\n",
      "649/649 [==============================] - 2s 3ms/step - loss: 312542272.0000 - val_loss: 173828288.0000\n",
      "Epoch 50/100\n",
      "649/649 [==============================] - 3s 5ms/step - loss: 315267936.0000 - val_loss: 173996272.0000\n",
      "Epoch 51/100\n",
      "649/649 [==============================] - 2s 3ms/step - loss: 309360064.0000 - val_loss: 172623328.0000\n",
      "Epoch 52/100\n",
      "649/649 [==============================] - 2s 3ms/step - loss: 300471712.0000 - val_loss: 173804992.0000\n",
      "Epoch 53/100\n",
      "649/649 [==============================] - 2s 3ms/step - loss: 322588512.0000 - val_loss: 172560544.0000\n",
      "Epoch 54/100\n",
      "649/649 [==============================] - 2s 3ms/step - loss: 308774720.0000 - val_loss: 171325728.0000\n",
      "Epoch 55/100\n",
      "649/649 [==============================] - 2s 3ms/step - loss: 297450304.0000 - val_loss: 169229264.0000\n",
      "Epoch 56/100\n",
      "649/649 [==============================] - 2s 2ms/step - loss: 308459456.0000 - val_loss: 172324992.0000\n",
      "Epoch 57/100\n",
      "649/649 [==============================] - 2s 3ms/step - loss: 315496288.0000 - val_loss: 175909216.0000\n",
      "Epoch 58/100\n",
      "649/649 [==============================] - 2s 4ms/step - loss: 315486912.0000 - val_loss: 172145632.0000\n",
      "Epoch 59/100\n",
      "649/649 [==============================] - 2s 3ms/step - loss: 309313632.0000 - val_loss: 171125008.0000\n",
      "Epoch 60/100\n",
      "649/649 [==============================] - 2s 3ms/step - loss: 313371008.0000 - val_loss: 170712000.0000\n",
      "Epoch 61/100\n",
      "649/649 [==============================] - 2s 3ms/step - loss: 305422528.0000 - val_loss: 173052192.0000\n",
      "Epoch 62/100\n",
      "649/649 [==============================] - 2s 3ms/step - loss: 311215776.0000 - val_loss: 170016272.0000\n",
      "Epoch 63/100\n",
      "649/649 [==============================] - 2s 2ms/step - loss: 304497792.0000 - val_loss: 172637200.0000\n",
      "Epoch 64/100\n",
      "649/649 [==============================] - 2s 4ms/step - loss: 312949792.0000 - val_loss: 172719088.0000\n",
      "Epoch 65/100\n",
      "649/649 [==============================] - 2s 4ms/step - loss: 300184576.0000 - val_loss: 170189264.0000\n",
      "Epoch 66/100\n",
      "649/649 [==============================] - 2s 3ms/step - loss: 313668800.0000 - val_loss: 171199440.0000\n",
      "Epoch 67/100\n",
      "649/649 [==============================] - 2s 3ms/step - loss: 310922752.0000 - val_loss: 172168816.0000\n",
      "Epoch 68/100\n",
      "649/649 [==============================] - 2s 2ms/step - loss: 308063936.0000 - val_loss: 167998400.0000\n",
      "Epoch 69/100\n",
      "649/649 [==============================] - 2s 3ms/step - loss: 306321632.0000 - val_loss: 168428192.0000\n",
      "Epoch 70/100\n",
      "649/649 [==============================] - 2s 3ms/step - loss: 311313408.0000 - val_loss: 171847488.0000\n",
      "Epoch 71/100\n",
      "649/649 [==============================] - 2s 2ms/step - loss: 309912000.0000 - val_loss: 169328480.0000\n",
      "Epoch 72/100\n",
      "649/649 [==============================] - 3s 5ms/step - loss: 312374304.0000 - val_loss: 168613168.0000\n",
      "Epoch 73/100\n",
      "649/649 [==============================] - 2s 3ms/step - loss: 311966976.0000 - val_loss: 169392208.0000\n",
      "Epoch 74/100\n",
      "649/649 [==============================] - 2s 2ms/step - loss: 302106080.0000 - val_loss: 168314800.0000\n",
      "Epoch 75/100\n",
      "649/649 [==============================] - 1s 2ms/step - loss: 298353472.0000 - val_loss: 169078368.0000\n",
      "Epoch 76/100\n",
      "649/649 [==============================] - 2s 3ms/step - loss: 315728032.0000 - val_loss: 173440272.0000\n",
      "Epoch 77/100\n",
      "649/649 [==============================] - 2s 3ms/step - loss: 310083904.0000 - val_loss: 169870752.0000\n",
      "Epoch 78/100\n",
      "649/649 [==============================] - 2s 3ms/step - loss: 308046208.0000 - val_loss: 168387664.0000\n",
      "Epoch 79/100\n",
      "649/649 [==============================] - 3s 4ms/step - loss: 304435968.0000 - val_loss: 165339840.0000\n",
      "Epoch 80/100\n",
      "649/649 [==============================] - 3s 4ms/step - loss: 315563520.0000 - val_loss: 169990784.0000\n",
      "Epoch 81/100\n",
      "649/649 [==============================] - 2s 3ms/step - loss: 311222976.0000 - val_loss: 167385056.0000\n",
      "Epoch 82/100\n",
      "649/649 [==============================] - 2s 3ms/step - loss: 308366816.0000 - val_loss: 170856480.0000\n",
      "Epoch 83/100\n",
      "649/649 [==============================] - 2s 2ms/step - loss: 315316384.0000 - val_loss: 165552672.0000\n",
      "Epoch 84/100\n",
      "649/649 [==============================] - 2s 2ms/step - loss: 299950080.0000 - val_loss: 169135776.0000\n",
      "Epoch 85/100\n",
      "649/649 [==============================] - 2s 3ms/step - loss: 306797888.0000 - val_loss: 167603424.0000\n",
      "Epoch 86/100\n",
      "649/649 [==============================] - 2s 3ms/step - loss: 301391488.0000 - val_loss: 176004144.0000\n",
      "Epoch 87/100\n",
      "649/649 [==============================] - 3s 4ms/step - loss: 304919680.0000 - val_loss: 169566768.0000\n",
      "Epoch 88/100\n",
      "649/649 [==============================] - 2s 3ms/step - loss: 309005568.0000 - val_loss: 173690384.0000\n",
      "Epoch 89/100\n",
      "649/649 [==============================] - 2s 3ms/step - loss: 309322592.0000 - val_loss: 169311776.0000\n",
      "Epoch 90/100\n",
      "649/649 [==============================] - 2s 3ms/step - loss: 308888864.0000 - val_loss: 168240704.0000\n",
      "Epoch 91/100\n",
      "649/649 [==============================] - 2s 3ms/step - loss: 310173856.0000 - val_loss: 169931024.0000\n",
      "Epoch 92/100\n",
      "649/649 [==============================] - 2s 2ms/step - loss: 311776448.0000 - val_loss: 169100864.0000\n",
      "Epoch 93/100\n",
      "649/649 [==============================] - 2s 3ms/step - loss: 305299648.0000 - val_loss: 168254320.0000\n",
      "Epoch 94/100\n",
      "649/649 [==============================] - 3s 4ms/step - loss: 301526848.0000 - val_loss: 165254608.0000\n",
      "Epoch 95/100\n",
      "649/649 [==============================] - 2s 3ms/step - loss: 303852256.0000 - val_loss: 169388608.0000\n",
      "Epoch 96/100\n",
      "649/649 [==============================] - 2s 3ms/step - loss: 303654624.0000 - val_loss: 171689056.0000\n",
      "Epoch 97/100\n",
      "649/649 [==============================] - 2s 3ms/step - loss: 309024896.0000 - val_loss: 172355984.0000\n",
      "Epoch 98/100\n",
      "649/649 [==============================] - 2s 3ms/step - loss: 310225760.0000 - val_loss: 168050464.0000\n",
      "Epoch 99/100\n",
      "649/649 [==============================] - 2s 3ms/step - loss: 301175328.0000 - val_loss: 169858400.0000\n",
      "Epoch 100/100\n",
      "649/649 [==============================] - 2s 3ms/step - loss: 305538144.0000 - val_loss: 167225488.0000\n"
     ]
    },
    {
     "data": {
      "text/plain": [
       "<keras.src.callbacks.History at 0x7f026ced43d0>"
      ]
     },
     "execution_count": 51,
     "metadata": {},
     "output_type": "execute_result"
    }
   ],
   "source": [
    "model.fit(X_train, y_train, epochs=100, batch_size=32, validation_data=(X_test, y_test))"
   ]
  },
  {
   "cell_type": "markdown",
   "id": "1fe76e51-caa6-4629-8086-949769aa44c4",
   "metadata": {},
   "source": [
    "## 4. Evaluate Performance"
   ]
  },
  {
   "cell_type": "code",
   "execution_count": 52,
   "id": "f29c7545-8332-4456-8e08-267e632c1a09",
   "metadata": {
    "colab": {
     "base_uri": "https://localhost:8080/"
    },
    "executionInfo": {
     "elapsed": 931,
     "status": "ok",
     "timestamp": 1702557845781,
     "user": {
      "displayName": "Alfian Bima Prastyo",
      "userId": "13770701840816320137"
     },
     "user_tz": -420
    },
    "id": "f29c7545-8332-4456-8e08-267e632c1a09",
    "outputId": "df22b0c7-d967-43c4-d08f-01edf82b6f1c"
   },
   "outputs": [
    {
     "name": "stdout",
     "output_type": "stream",
     "text": [
      "163/163 [==============================] - 0s 1ms/step\n"
     ]
    }
   ],
   "source": [
    "predictions = model.predict(X_test)"
   ]
  },
  {
   "cell_type": "code",
   "execution_count": 53,
   "id": "42053c65-d34b-4883-9e2d-327af4f15e8f",
   "metadata": {
    "colab": {
     "base_uri": "https://localhost:8080/"
    },
    "executionInfo": {
     "elapsed": 387,
     "status": "ok",
     "timestamp": 1702557848567,
     "user": {
      "displayName": "Alfian Bima Prastyo",
      "userId": "13770701840816320137"
     },
     "user_tz": -420
    },
    "id": "42053c65-d34b-4883-9e2d-327af4f15e8f",
    "outputId": "bbe32ef3-b998-49a1-f05f-c559d7de10be"
   },
   "outputs": [
    {
     "name": "stdout",
     "output_type": "stream",
     "text": [
      "Predictions: [[40135.664]\n",
      " [26718.06 ]\n",
      " [17748.412]\n",
      " ...\n",
      " [20424.13 ]\n",
      " [32041.611]\n",
      " [97304.15 ]]\n"
     ]
    }
   ],
   "source": [
    "print(f'Predictions: {predictions}')"
   ]
  },
  {
   "cell_type": "code",
   "execution_count": 54,
   "id": "678f8b68-e411-4729-a164-41ff73178a2f",
   "metadata": {
    "colab": {
     "base_uri": "https://localhost:8080/"
    },
    "executionInfo": {
     "elapsed": 656,
     "status": "ok",
     "timestamp": 1702557853823,
     "user": {
      "displayName": "Alfian Bima Prastyo",
      "userId": "13770701840816320137"
     },
     "user_tz": -420
    },
    "id": "678f8b68-e411-4729-a164-41ff73178a2f",
    "outputId": "93857a97-d5f5-4909-a3bb-a808ac10faa3"
   },
   "outputs": [
    {
     "name": "stdout",
     "output_type": "stream",
     "text": [
      "163/163 [==============================] - 0s 3ms/step - loss: 167225488.0000\n",
      "Mean Squared Error on Test Data: 167225488.0\n",
      "Score on Test Data: 0.9767485905090013\n"
     ]
    }
   ],
   "source": [
    "from sklearn.metrics import mean_squared_error, mean_absolute_error, r2_score\n",
    "\n",
    "loss = model.evaluate(X_test, y_test)\n",
    "r2 = r2_score(y_test, predictions)\n",
    "\n",
    "print(f'Mean Squared Error on Test Data: {loss}')\n",
    "print(f'Score on Test Data: {r2}')\n"
   ]
  },
  {
   "cell_type": "markdown",
   "id": "2fcf15e2-3c25-44b4-9f56-c4167759ec6d",
   "metadata": {},
   "source": [
    "## 5.Plot Performance"
   ]
  },
  {
   "cell_type": "code",
   "execution_count": 55,
   "id": "f8c1e000-85d2-47f2-bd0a-fac05be0c074",
   "metadata": {
    "colab": {
     "base_uri": "https://localhost:8080/",
     "height": 576
    },
    "executionInfo": {
     "elapsed": 905,
     "status": "ok",
     "timestamp": 1702557858396,
     "user": {
      "displayName": "Alfian Bima Prastyo",
      "userId": "13770701840816320137"
     },
     "user_tz": -420
    },
    "id": "f8c1e000-85d2-47f2-bd0a-fac05be0c074",
    "outputId": "bc26f535-9161-4883-a4b1-fc38d04f9057"
   },
   "outputs": [
    {
     "name": "stdout",
     "output_type": "stream",
     "text": [
      "163/163 [==============================] - 0s 2ms/step\n",
      "Sample 0: Predicted=40135.6640625, Actual=41004\n",
      "Sample 11: Predicted=32595.423828125, Actual=30655\n",
      "Sample 23: Predicted=211907.71875, Actual=205381\n",
      "Sample 13: Predicted=21007.099609375, Actual=22581\n",
      "Sample 41: Predicted=22836.095703125, Actual=22807\n"
     ]
    },
    {
     "data": {
      "image/png": "[encoded data removed]",
      "text/plain": [
       "<Figure size 640x480 with 1 Axes>"
      ]
     },
     "metadata": {},
     "output_type": "display_data"
    }
   ],
   "source": [
    "import matplotlib.pyplot as plt\n",
    "\n",
    "sample_indices = [0, 11, 23, 13, 41]\n",
    "\n",
    "predictions = model.predict(X_test)\n",
    "\n",
    "for i in sample_indices:\n",
    "    print(f'Sample {i}: Predicted={predictions[i][0]}, Actual={y_test.iloc[i]}')\n",
    "\n",
    "plt.scatter(y_test, predictions)\n",
    "plt.xlabel('Actual Values')\n",
    "plt.ylabel('Predicted Values')\n",
    "plt.title('Actual vs Predicted Values')\n",
    "plt.plot([min(y_test), max(y_test)], [min(y_test), max(y_test)], color='red', linestyle='--', linewidth=2)\n",
    "plt.show()\n"
   ]
  },
  {
   "cell_type": "markdown",
   "id": "efa55b45-a562-4bb8-8ca6-ce03422dfdca",
   "metadata": {},
   "source": [
    "## 6. Save Model"
   ]
  },
  {
   "cell_type": "code",
   "execution_count": 56,
   "id": "5728d697-f49c-4649-8fa7-30d9c26d95a0",
   "metadata": {
    "colab": {
     "base_uri": "https://localhost:8080/"
    },
    "executionInfo": {
     "elapsed": 565,
     "status": "ok",
     "timestamp": 1702557881914,
     "user": {
      "displayName": "Alfian Bima Prastyo",
      "userId": "13770701840816320137"
     },
     "user_tz": -420
    },
    "id": "5728d697-f49c-4649-8fa7-30d9c26d95a0",
    "outputId": "e6cf80dd-7e0c-48a3-f0c0-3207c8d3be5e"
   },
   "outputs": [
    {
     "name": "stderr",
     "output_type": "stream",
     "text": [
      "/usr/local/lib/python3.10/dist-packages/keras/src/engine/training.py:3103: UserWarning: You are saving your model as an HDF5 file via `model.save()`. This file format is considered legacy. We recommend using instead the native Keras format, e.g. `model.save('my_model.keras')`.\n",
      "  saving_api.save_model(\n"
     ]
    }
   ],
   "source": [
    "model.save('model.h5')"
   ]
  },
  {
   "cell_type": "code",
   "execution_count": 58,
   "id": "d0ea5c47-8c1f-44ee-9969-eef387e48a8e",
   "metadata": {
    "executionInfo": {
     "elapsed": 306,
     "status": "ok",
     "timestamp": 1702557906573,
     "user": {
      "displayName": "Alfian Bima Prastyo",
      "userId": "13770701840816320137"
     },
     "user_tz": -420
    },
    "id": "d0ea5c47-8c1f-44ee-9969-eef387e48a8e"
   },
   "outputs": [],
   "source": [
    "import tensorflowjs as tfjs\n",
    "tfjs.converters.save_keras_model(model,'modelss')"
   ]
  },
  {
   "cell_type": "code",
   "execution_count": 59,
   "id": "CdGQvN_RJjUg",
   "metadata": {
    "colab": {
     "base_uri": "https://localhost:8080/",
     "height": 17
    },
    "executionInfo": {
     "elapsed": 332,
     "status": "ok",
     "timestamp": 1702557918588,
     "user": {
      "displayName": "Alfian Bima Prastyo",
      "userId": "13770701840816320137"
     },
     "user_tz": -420
    },
    "id": "CdGQvN_RJjUg",
    "outputId": "679fff01-3548-4461-8300-084079055acb"
   },
   "outputs": [
    {
     "data": {
      "application/javascript": [
       "\n",
       "    async function download(id, filename, size) {\n",
       "      if (!google.colab.kernel.accessAllowed) {\n",
       "        return;\n",
       "      }\n",
       "      const div = document.createElement('div');\n",
       "      const label = document.createElement('label');\n",
       "      label.textContent = `Downloading \"${filename}\": `;\n",
       "      div.appendChild(label);\n",
       "      const progress = document.createElement('progress');\n",
       "      progress.max = size;\n",
       "      div.appendChild(progress);\n",
       "      document.body.appendChild(div);\n",
       "\n",
       "      const buffers = [];\n",
       "      let downloaded = 0;\n",
       "\n",
       "      const channel = await google.colab.kernel.comms.open(id);\n",
       "      // Send a message to notify the kernel that we're ready.\n",
       "      channel.send({})\n",
       "\n",
       "      for await (const message of channel.messages) {\n",
       "        // Send a message to notify the kernel that we're ready.\n",
       "        channel.send({})\n",
       "        if (message.buffers) {\n",
       "          for (const buffer of message.buffers) {\n",
       "            buffers.push(buffer);\n",
       "            downloaded += buffer.byteLength;\n",
       "            progress.value = downloaded;\n",
       "          }\n",
       "        }\n",
       "      }\n",
       "      const blob = new Blob(buffers, {type: 'application/binary'});\n",
       "      const a = document.createElement('a');\n",
       "      a.href = window.URL.createObjectURL(blob);\n",
       "      a.download = filename;\n",
       "      div.appendChild(a);\n",
       "      a.click();\n",
       "      div.remove();\n",
       "    }\n",
       "  "
      ],
      "text/plain": [
       "<IPython.core.display.Javascript object>"
      ]
     },
     "metadata": {},
     "output_type": "display_data"
    },
    {
     "data": {
      "application/javascript": [
       "download(\"download_40e29cfe-e1fa-4b8d-bb30-a00fa45d19d4\", \"model.json\", 3182)"
      ],
      "text/plain": [
       "<IPython.core.display.Javascript object>"
      ]
     },
     "metadata": {},
     "output_type": "display_data"
    }
   ],
   "source": [
    "from google.colab import files\n",
    "files.download('modelss/model.json')\n",
    "\n"
   ]
  },
  {
   "cell_type": "code",
   "execution_count": 60,
   "id": "47901373-6dbe-4fbf-9141-f28f14cfa465",
   "metadata": {
    "colab": {
     "base_uri": "https://localhost:8080/",
     "height": 17
    },
    "executionInfo": {
     "elapsed": 301,
     "status": "ok",
     "timestamp": 1702557959574,
     "user": {
      "displayName": "Alfian Bima Prastyo",
      "userId": "13770701840816320137"
     },
     "user_tz": -420
    },
    "id": "47901373-6dbe-4fbf-9141-f28f14cfa465",
    "outputId": "6eb2e0e0-df78-4191-ce9a-4ad10bad4bd4"
   },
   "outputs": [
    {
     "data": {
      "application/javascript": [
       "\n",
       "    async function download(id, filename, size) {\n",
       "      if (!google.colab.kernel.accessAllowed) {\n",
       "        return;\n",
       "      }\n",
       "      const div = document.createElement('div');\n",
       "      const label = document.createElement('label');\n",
       "      label.textContent = `Downloading \"${filename}\": `;\n",
       "      div.appendChild(label);\n",
       "      const progress = document.createElement('progress');\n",
       "      progress.max = size;\n",
       "      div.appendChild(progress);\n",
       "      document.body.appendChild(div);\n",
       "\n",
       "      const buffers = [];\n",
       "      let downloaded = 0;\n",
       "\n",
       "      const channel = await google.colab.kernel.comms.open(id);\n",
       "      // Send a message to notify the kernel that we're ready.\n",
       "      channel.send({})\n",
       "\n",
       "      for await (const message of channel.messages) {\n",
       "        // Send a message to notify the kernel that we're ready.\n",
       "        channel.send({})\n",
       "        if (message.buffers) {\n",
       "          for (const buffer of message.buffers) {\n",
       "            buffers.push(buffer);\n",
       "            downloaded += buffer.byteLength;\n",
       "            progress.value = downloaded;\n",
       "          }\n",
       "        }\n",
       "      }\n",
       "      const blob = new Blob(buffers, {type: 'application/binary'});\n",
       "      const a = document.createElement('a');\n",
       "      a.href = window.URL.createObjectURL(blob);\n",
       "      a.download = filename;\n",
       "      div.appendChild(a);\n",
       "      a.click();\n",
       "      div.remove();\n",
       "    }\n",
       "  "
      ],
      "text/plain": [
       "<IPython.core.display.Javascript object>"
      ]
     },
     "metadata": {},
     "output_type": "display_data"
    },
    {
     "data": {
      "application/javascript": [
       "download(\"download_1ed16a10-cec1-40bf-8fae-d1f313e7f2df\", \"model.h5\", 307552)"
      ],
      "text/plain": [
       "<IPython.core.display.Javascript object>"
      ]
     },
     "metadata": {},
     "output_type": "display_data"
    }
   ],
   "source": [
    "from google.colab import files\n",
    "\n",
    "files.download('model.h5')\n"
   ]
  }
 ],
 "metadata": {
  "colab": {
   "provenance": []
  },
  "kernelspec": {
   "display_name": "Python 3 (ipykernel)",
   "language": "python",
   "name": "python3"
  },
  "language_info": {
   "codemirror_mode": {
    "name": "ipython",
    "version": 3
   },
   "file_extension": ".py",
   "mimetype": "text/x-python",
   "name": "python",
   "nbconvert_exporter": "python",
   "pygments_lexer": "ipython3",
   "version": "3.11.3"
  }
 },
 "nbformat": 4,
 "nbformat_minor": 5
}
